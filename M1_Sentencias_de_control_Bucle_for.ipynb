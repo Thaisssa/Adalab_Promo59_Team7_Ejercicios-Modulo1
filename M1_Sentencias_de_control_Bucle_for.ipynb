{
 "cells": [
  {
   "cell_type": "markdown",
   "id": "5b8c7a22",
   "metadata": {},
   "source": [
    "SENTENCIAS DE CONTROL BUCLE FOR"
   ]
  },
  {
   "cell_type": "code",
   "execution_count": null,
   "id": "c136a7aa",
   "metadata": {},
   "outputs": [],
   "source": [
    "temperaturas = [2,45,67,23, 45,66,12,1,34,67,99,98,67,64, 44, 100]\n",
    "\n",
    "\n",
    "bajas_temp = []\n",
    "medias_temp = []\n",
    "altas_temp = []\n"
   ]
  },
  {
   "cell_type": "code",
   "execution_count": null,
   "id": "4b2c50ad",
   "metadata": {},
   "outputs": [],
   "source": [
    "Celsius_a_Farenheit = (temperaturas * 9/5) +32"
   ]
  }
 ],
 "metadata": {
  "kernelspec": {
   "display_name": "Python 3",
   "language": "python",
   "name": "python3"
  },
  "language_info": {
   "name": "python",
   "version": "3.13.7"
  }
 },
 "nbformat": 4,
 "nbformat_minor": 5
}
