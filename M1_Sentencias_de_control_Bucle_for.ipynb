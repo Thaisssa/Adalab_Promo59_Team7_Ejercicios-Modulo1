{
 "cells": [
  {
   "cell_type": "markdown",
   "id": "5b8c7a22",
   "metadata": {},
   "source": [
    "SENTENCIAS DE CONTROL BUCLE FOR"
   ]
  },
  {
   "cell_type": "code",
   "execution_count": 5,
   "id": "c136a7aa",
   "metadata": {},
   "outputs": [
    {
     "name": "stdout",
     "output_type": "stream",
     "text": [
      "Bajas: [2, 1]\n",
      "Medias: [12]\n",
      "Altas: [45, 67, 23, 45, 66, 34, 67, 99, 98, 67, 64, 44, 100]\n"
     ]
    }
   ],
   "source": [
    "temperaturas = [2,45,67,23, 45,66,12,1,34,67,99,98,67,64, 44, 100]\n",
    "bajas_temp = []\n",
    "medias_temp = []\n",
    "altas_temp = []\n",
    "\n",
    "for i in temperaturas: \n",
    "    if i > 0 and i <= 10:\n",
    "        bajas_temp.append(i)\n",
    "        \n",
    "for i in temperaturas:\n",
    "    if i > 10 and i <= 20:\n",
    "       medias_temp.append(i)\n",
    "        \n",
    "for i in temperaturas:\n",
    "    if i > 20:\n",
    "        altas_temp.append(i)\n",
    "        \n",
    "print(\"Bajas:\", bajas_temp)\n",
    "print(\"Medias:\", medias_temp)\n",
    "print(\"Altas:\", altas_temp)\n"
   ]
  },
  {
   "cell_type": "code",
   "execution_count": null,
   "id": "4b2c50ad",
   "metadata": {},
   "outputs": [
    {
     "ename": "TypeError",
     "evalue": "unsupported operand type(s) for /: 'list' and 'int'",
     "output_type": "error",
     "traceback": [
      "\u001b[31m---------------------------------------------------------------------------\u001b[39m",
      "\u001b[31mTypeError\u001b[39m                                 Traceback (most recent call last)",
      "\u001b[36mCell\u001b[39m\u001b[36m \u001b[39m\u001b[32mIn[6]\u001b[39m\u001b[32m, line 1\u001b[39m\n\u001b[32m----> \u001b[39m\u001b[32m1\u001b[39m Celsius_a_Farenheit = (\u001b[43mtemperaturas\u001b[49m\u001b[43m \u001b[49m\u001b[43m*\u001b[49m\u001b[43m \u001b[49m\u001b[32;43m9\u001b[39;49m\u001b[43m/\u001b[49m\u001b[32;43m5\u001b[39;49m) +\u001b[32m32\u001b[39m\n",
      "\u001b[31mTypeError\u001b[39m: unsupported operand type(s) for /: 'list' and 'int'"
     ]
    }
   ],
   "source": [
    "Celsius_a_Farenheit = (temperaturas * 9/5) +32\n",
    "\n",
    "for i  in bajas_temp:\n",
    "    i = (i * 9/5) +32\n",
    "    print(i)\n",
    "    \n"
   ]
  }
 ],
 "metadata": {
  "kernelspec": {
   "display_name": "Python 3",
   "language": "python",
   "name": "python3"
  },
  "language_info": {
   "codemirror_mode": {
    "name": "ipython",
    "version": 3
   },
   "file_extension": ".py",
   "mimetype": "text/x-python",
   "name": "python",
   "nbconvert_exporter": "python",
   "pygments_lexer": "ipython3",
   "version": "3.13.7"
  }
 },
 "nbformat": 4,
 "nbformat_minor": 5
}
