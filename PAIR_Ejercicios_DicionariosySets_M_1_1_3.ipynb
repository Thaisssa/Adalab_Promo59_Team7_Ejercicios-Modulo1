{
 "cells": [
  {
   "cell_type": "code",
   "execution_count": null,
   "id": "39d8e3a6",
   "metadata": {},
   "outputs": [],
   "source": [
    "#jercicios de diccionarios"
   ]
  },
  {
   "cell_type": "markdown",
   "id": "e80e4e22",
   "metadata": {},
   "source": [
    "#Definir diccionarios"
   ]
  },
  {
   "cell_type": "markdown",
   "id": "f8b38b06",
   "metadata": {},
   "source": [
    "#Crea el diccionario festivos con las fechas como claves y los nombres como valores: 01/01: Año Nuevo, 06/01: Epifanía del Señor, 15/04: Viernes Santo, 15/08: Asunción de la Virgen, 12/10: Fiesta Nacional de España, 01/11: Todos los Santos, 06/12: Día de la Constitución Española, y 08/12: Inmaculada Concepción.\n",
    "\n",
    "festivos = {\n",
    "\"01/01\": \"Ano Nuevo\",\"06/01\":\"Epifanía del Señor\": \"15/04\":\"Viernes Santo\",\n",
    "\"15/08\": \"Assunción de la Virgen\",\"12/10\": \" Fiesta Nacional de España\", \"01/11\":\" Todos los Santos\", \"06/12\":\"Día de la Constitución Española\", \"08/12\": \"Inmaculada Concepción\"\n",
    "}"
   ]
  },
  {
   "cell_type": "markdown",
   "id": "864923d4",
   "metadata": {},
   "source": [
    "festivos = {\n",
    "\"01/01\": \"Ano Nuevo\",\"06/01\":\"Epifanía del Señor\": \"15/04\":\"Viernes Santo\",\n",
    "\"15/08\": \"Assunción de la Virgen\",\"12/10\": \" Fiesta Nacional de España\", \"01/11\":\" Todos los Santos\", \"06/12\":\"Día de la Constitución Española\", \"08/12\": \"Inmaculada Concepción\"\n",
    "}"
   ]
  },
  {
   "cell_type": "code",
   "execution_count": 2,
   "id": "0f737ace",
   "metadata": {},
   "outputs": [
    {
     "data": {
      "text/plain": [
       "{'01/01': 'Ano Nuevo',\n",
       " '06/01': 'Epifanía del Señor',\n",
       " '155/04': 'Viernes Santo',\n",
       " '15/08': 'Assunción de la Virgen',\n",
       " '12/10': ' Fiesta Nacional de España',\n",
       " '01/11': ' Todos los Santos',\n",
       " '06/12': 'Día de la Constitución Española',\n",
       " '08/12': 'Inmaculada Concepción'}"
      ]
     },
     "execution_count": 2,
     "metadata": {},
     "output_type": "execute_result"
    }
   ],
   "source": [
    "#1.ea el diccionario festivos con las fechas como claves y los nombres como valores: 01/01: Año Nuevo, 06/01: Epifanía del Señor, 15/04: Viernes Santo, 15/08: Asunción de la Virgen, 12/10: Fiesta Nacional de España, 01/11: Todos los Santos, 06/12: Día de la Constitución Española, y 08/12: Inmaculada Concepción.\n",
    "\n",
    "festivos = {\n",
    "\"01/01\": \"Ano Nuevo\",\n",
    "\"06/01\":\"Epifanía del Señor\", \n",
    "\"155/04\":\"Viernes Santo\",\n",
    "\"15/08\": \"Assunción de la Virgen\",\n",
    "\"12/10\": \" Fiesta Nacional de España\", \n",
    "\"01/11\":\" Todos los Santos\", \n",
    "\"06/12\":\"Día de la Constitución Española\", \n",
    "\"08/12\": \"Inmaculada Concepción\"\n",
    "}\n",
    "festivos"
   ]
  },
  {
   "cell_type": "code",
   "execution_count": 3,
   "id": "4c31c9f7",
   "metadata": {},
   "outputs": [
    {
     "data": {
      "text/plain": [
       "{'Bélgica': 'Phillipe',\n",
       " ' Dinamarca': 'Margrethe II',\n",
       " 'Holanda': 'Beatrix',\n",
       " 'Noruega': 'Harald V',\n",
       " 'España': 'Felipe VI',\n",
       " 'Reino Unido': ' Carlos III'}"
      ]
     },
     "execution_count": 3,
     "metadata": {},
     "output_type": "execute_result"
    }
   ],
   "source": [
    "#Crea el diccionario monarcas con los países como claves y los nombres como valores:\n",
    "\n",
    "Monarcas = {\n",
    "\"Bélgica\": \"Phillipe\",\n",
    "\" Dinamarca\": \"Margrethe II\",\n",
    "\"Holanda\": \"Beatrix\",\n",
    "\"Noruega\": \"Harald V\",\"\"\n",
    "\"España\": \"Felipe VI\",\n",
    "\"Reino Unido\": \" Carlos III\"\n",
    "}\n",
    "Monarcas\n"
   ]
  },
  {
   "cell_type": "code",
   "execution_count": null,
   "id": "8e3fd58c",
   "metadata": {},
   "outputs": [],
   "source": [
    "#Leer, añadir, y cambiar elementos"
   ]
  },
  {
   "cell_type": "markdown",
   "id": "e260e9b9",
   "metadata": {},
   "source": []
  },
  {
   "cell_type": "code",
   "execution_count": 19,
   "id": "0cc4a6d6",
   "metadata": {},
   "outputs": [],
   "source": [
    "#3.¿Qué festivo hay el 15/04\n",
    "festivos.get(\"15/04\")"
   ]
  },
  {
   "cell_type": "markdown",
   "id": "a2811ecf",
   "metadata": {},
   "source": [
    "#4.La reina 'Beatrix' abdicó, ahora es el rey 'Willem-Alexander'. Actualiza el dict.\n",
    "\n",
    "Momarcas.pop(\"Beatrix\")\n",
    "monarcas\n"
   ]
  },
  {
   "cell_type": "code",
   "execution_count": 37,
   "id": "e228e0fb",
   "metadata": {},
   "outputs": [
    {
     "ename": "SyntaxError",
     "evalue": "invalid syntax (3590474406.py, line 3)",
     "output_type": "error",
     "traceback": [
      "  \u001b[36mCell\u001b[39m\u001b[36m \u001b[39m\u001b[32mIn[37]\u001b[39m\u001b[32m, line 3\u001b[39m\n\u001b[31m    \u001b[39m\u001b[31mremoved_value = Monarcas.(\"Beatrix\")\u001b[39m\n                             ^\n\u001b[31mSyntaxError\u001b[39m\u001b[31m:\u001b[39m invalid syntax\n"
     ]
    }
   ],
   "source": [
    "#4.La reina 'Beatrix' abdicó, ahora es el rey 'Willem-Alexander'. Actualiza el dict.\n",
    "\n",
    "removed_value = Monarcas.(\"Beatrix\")\n",
    "print(\"Removed:\", removed_value)"
   ]
  },
  {
   "cell_type": "code",
   "execution_count": 40,
   "id": "39afbe42",
   "metadata": {},
   "outputs": [
    {
     "ename": "SyntaxError",
     "evalue": "closing parenthesis '}' does not match opening parenthesis '(' (2259185175.py, line 2)",
     "output_type": "error",
     "traceback": [
      "  \u001b[36mCell\u001b[39m\u001b[36m \u001b[39m\u001b[32mIn[40]\u001b[39m\u001b[32m, line 2\u001b[39m\n\u001b[31m    \u001b[39m\u001b[31mMonarcas. update[(\"Holanda\":\"Willen-Alexnader\"})\u001b[39m\n                                                  ^\n\u001b[31mSyntaxError\u001b[39m\u001b[31m:\u001b[39m closing parenthesis '}' does not match opening parenthesis '('\n"
     ]
    }
   ],
   "source": [
    "Monarcas.pop({\"Beatrix\"})\n",
    "Monarcas. update[(\"Holanda\":\"Willen-Alexnader\"})\n",
    "Monarcas"
   ]
  },
  {
   "cell_type": "markdown",
   "id": "62fcd7ec",
   "metadata": {},
   "source": [
    "#El rey de Luxemburgo se llama Henri. Añadelo al dict usando .update().\n",
    "\n",
    "Monarcas.update(\"Luxemburgo\": \"Henri\")\n",
    "Monarcas"
   ]
  },
  {
   "cell_type": "code",
   "execution_count": 38,
   "id": "6d83f464",
   "metadata": {},
   "outputs": [
    {
     "data": {
      "text/plain": [
       "{'Bélgica': 'Phillipe',\n",
       " ' Dinamarca': 'Margrethe II',\n",
       " 'Holanda': 'Beatrix',\n",
       " 'Noruega': 'Harald V',\n",
       " 'España': 'Felipe VI',\n",
       " 'Reino Unido': ' Carlos III',\n",
       " 'Luxemburgo': 'Henri'}"
      ]
     },
     "execution_count": 38,
     "metadata": {},
     "output_type": "execute_result"
    }
   ],
   "source": [
    "#5. rey de Luxemburgo se llama Henri. Añadelo al dict usando .update().\n",
    "\n",
    "Monarcas.update({\"Luxemburgo\": \"Henri\"})\n",
    "Monarcas"
   ]
  },
  {
   "cell_type": "code",
   "execution_count": 46,
   "id": "7a79c49e",
   "metadata": {},
   "outputs": [
    {
     "data": {
      "text/plain": [
       "7"
      ]
     },
     "execution_count": 46,
     "metadata": {},
     "output_type": "execute_result"
    }
   ],
   "source": [
    "#.Comprobarcontenidos\n",
    " #6.¿Cuántos países están definidos en monar\n",
    " \n",
    "len(Monarcas)"
   ]
  },
  {
   "cell_type": "code",
   "execution_count": null,
   "id": "29e4d4d8",
   "metadata": {},
   "outputs": [
    {
     "data": {
      "text/plain": [
       "False"
      ]
     },
     "execution_count": 47,
     "metadata": {},
     "output_type": "execute_result"
    }
   ],
   "source": [
    "#7.Monaco' uno de ellos?\n",
    "\n",
    "\"Monaco\" in Monarcas"
   ]
  },
  {
   "cell_type": "code",
   "execution_count": 53,
   "id": "64cc4914",
   "metadata": {},
   "outputs": [
    {
     "data": {
      "text/plain": [
       "False"
      ]
     },
     "execution_count": 53,
     "metadata": {},
     "output_type": "execute_result"
    }
   ],
   "source": [
    "#8.     ¿Es verdad que nos olvidamos de poner 'Suecia'? Compruébalo de una manera en que obtengas un True o False.\n",
    "\n",
    "\"Suencia \" in Monarcas"
   ]
  },
  {
   "cell_type": "markdown",
   "id": "76220131",
   "metadata": {},
   "source": [
    "#Listar los contenidos\n",
    "\n",
    "#9.Saca una lista de todos los países en el dict monarcas.\n",
    "Monarcas(values)"
   ]
  },
  {
   "cell_type": "code",
   "execution_count": 66,
   "id": "5496a0cb",
   "metadata": {},
   "outputs": [
    {
     "ename": "AttributeError",
     "evalue": "'dict' object has no attribute 'valeue'",
     "output_type": "error",
     "traceback": [
      "\u001b[31m---------------------------------------------------------------------------\u001b[39m",
      "\u001b[31mAttributeError\u001b[39m                            Traceback (most recent call last)",
      "\u001b[36mCell\u001b[39m\u001b[36m \u001b[39m\u001b[32mIn[66]\u001b[39m\u001b[32m, line 1\u001b[39m\n\u001b[32m----> \u001b[39m\u001b[32m1\u001b[39m \u001b[43mMonarcas\u001b[49m\u001b[43m.\u001b[49m\u001b[43mvaleue\u001b[49m()\n",
      "\u001b[31mAttributeError\u001b[39m: 'dict' object has no attribute 'valeue'"
     ]
    }
   ],
   "source": [
    "Monarcas.valeue()"
   ]
  },
  {
   "cell_type": "markdown",
   "id": "e5d435c3",
   "metadata": {},
   "source": [
    "#10. Saca una lista de los nombres de los festivos.\n",
    "key(festivos)\n"
   ]
  },
  {
   "cell_type": "code",
   "execution_count": 64,
   "id": "d1df2803",
   "metadata": {},
   "outputs": [
    {
     "data": {
      "text/plain": [
       "dict_keys(['01/01', '06/01', '155/04', '15/08', '12/10', '01/11', '06/12', '08/12'])"
      ]
     },
     "execution_count": 64,
     "metadata": {},
     "output_type": "execute_result"
    }
   ],
   "source": [
    "festivos.keys()"
   ]
  },
  {
   "cell_type": "code",
   "execution_count": null,
   "id": "941fe336",
   "metadata": {},
   "outputs": [],
   "source": [
    "#11."
   ]
  },
  {
   "cell_type": "markdown",
   "id": "15679b2f",
   "metadata": {},
   "source": [
    "#11.Imprime el diccionario de festivos.\n",
    "#12.Imprime una lista de tuplas de todos los elementos que hay en festivos.\n"
   ]
  },
  {
   "cell_type": "code",
   "execution_count": 67,
   "id": "4e09dbc8",
   "metadata": {},
   "outputs": [
    {
     "data": {
      "text/plain": [
       "{'01/01': 'Ano Nuevo',\n",
       " '06/01': 'Epifanía del Señor',\n",
       " '155/04': 'Viernes Santo',\n",
       " '15/08': 'Assunción de la Virgen',\n",
       " '12/10': ' Fiesta Nacional de España',\n",
       " '01/11': ' Todos los Santos',\n",
       " '06/12': 'Día de la Constitución Española',\n",
       " '08/12': 'Inmaculada Concepción'}"
      ]
     },
     "execution_count": 67,
     "metadata": {},
     "output_type": "execute_result"
    }
   ],
   "source": [
    "festivos"
   ]
  },
  {
   "cell_type": "code",
   "execution_count": 68,
   "id": "6935ea10",
   "metadata": {},
   "outputs": [
    {
     "ename": "NameError",
     "evalue": "name 'festvios' is not defined",
     "output_type": "error",
     "traceback": [
      "\u001b[31m---------------------------------------------------------------------------\u001b[39m",
      "\u001b[31mNameError\u001b[39m                                 Traceback (most recent call last)",
      "\u001b[36mCell\u001b[39m\u001b[36m \u001b[39m\u001b[32mIn[68]\u001b[39m\u001b[32m, line 1\u001b[39m\n\u001b[32m----> \u001b[39m\u001b[32m1\u001b[39m festivos = \u001b[38;5;28mtuple\u001b[39m(\u001b[43mfestvios\u001b[49m)\n",
      "\u001b[31mNameError\u001b[39m: name 'festvios' is not defined"
     ]
    }
   ],
   "source": [
    "festivos = tuple(festvios)"
   ]
  },
  {
   "cell_type": "markdown",
   "id": "796dca08",
   "metadata": {},
   "source": [
    "Copiar dicts, y borrar elementos\n",
    "\n",
    "13.Copia monarcas a monarcas2010.\n",
    "14. Quita España de monarcas2010.\n",
    "15.Quita el último elemento de monarcas2010."
   ]
  },
  {
   "cell_type": "code",
   "execution_count": 70,
   "id": "63f83009",
   "metadata": {},
   "outputs": [
    {
     "data": {
      "text/plain": [
       "{'Bélgica': 'Phillipe',\n",
       " ' Dinamarca': 'Margrethe II',\n",
       " 'Holanda': 'Beatrix',\n",
       " 'Noruega': 'Harald V',\n",
       " 'España': 'Felipe VI',\n",
       " 'Reino Unido': ' Carlos III',\n",
       " 'Luxemburgo': 'Henri'}"
      ]
     },
     "execution_count": 70,
     "metadata": {},
     "output_type": "execute_result"
    }
   ],
   "source": [
    "#13.\n",
    "Monarcas2010 = (Monarcas)\n",
    "Monarcas2010"
   ]
  },
  {
   "cell_type": "code",
   "execution_count": 84,
   "id": "080d31a4",
   "metadata": {},
   "outputs": [
    {
     "ename": "NameError",
     "evalue": "name 'pop' is not defined",
     "output_type": "error",
     "traceback": [
      "\u001b[31m---------------------------------------------------------------------------\u001b[39m",
      "\u001b[31mNameError\u001b[39m                                 Traceback (most recent call last)",
      "\u001b[36mCell\u001b[39m\u001b[36m \u001b[39m\u001b[32mIn[84]\u001b[39m\u001b[32m, line 2\u001b[39m\n\u001b[32m      1\u001b[39m \u001b[38;5;66;03m#14\u001b[39;00m\n\u001b[32m----> \u001b[39m\u001b[32m2\u001b[39m \u001b[43mpop\u001b[49m(Monarcas2010)\n",
      "\u001b[31mNameError\u001b[39m: name 'pop' is not defined"
     ]
    }
   ],
   "source": [
    "#14\n",
    "pop(Monarcas2010)"
   ]
  },
  {
   "cell_type": "code",
   "execution_count": 82,
   "id": "d1f4e7b1",
   "metadata": {},
   "outputs": [
    {
     "data": {
      "text/plain": [
       "{'Bélgica': 'Phillipe',\n",
       " ' Dinamarca': 'Margrethe II',\n",
       " 'Holanda': 'Beatrix',\n",
       " 'Noruega': 'Harald V',\n",
       " 'España': 'Felipe VI'}"
      ]
     },
     "execution_count": 82,
     "metadata": {},
     "output_type": "execute_result"
    }
   ],
   "source": [
    "#15.\n",
    "Monarcas.popitem()\n",
    "Monarcas"
   ]
  },
  {
   "cell_type": "code",
   "execution_count": null,
   "id": "27cbdfe4",
   "metadata": {},
   "outputs": [],
   "source": [
    "#Vaciar y borrar dicts\n"
   ]
  },
  {
   "cell_type": "markdown",
   "id": "be2d0b66",
   "metadata": {},
   "source": [
    "#15.Vacia el dict monarcas2010.\n"
   ]
  },
  {
   "cell_type": "code",
   "execution_count": 87,
   "id": "443bd61a",
   "metadata": {},
   "outputs": [
    {
     "name": "stdout",
     "output_type": "stream",
     "text": [
      "\f\n"
     ]
    }
   ],
   "source": [
    "clear(Monarcas2010)"
   ]
  },
  {
   "cell_type": "code",
   "execution_count": 91,
   "id": "271c8b1b",
   "metadata": {},
   "outputs": [
    {
     "data": {
      "text/plain": [
       "'Epifanía del Señor'"
      ]
     },
     "execution_count": 91,
     "metadata": {},
     "output_type": "execute_result"
    }
   ],
   "source": [
    "#Obtener valores\n",
    "#16. Qué festivo hay el 06/01?\n",
    "\n",
    "festivos.get(\"06/01\")"
   ]
  },
  {
   "cell_type": "code",
   "execution_count": 92,
   "id": "393f2b99",
   "metadata": {},
   "outputs": [],
   "source": [
    "#17.     Obten el festivo que haya el 08/03, y en su defecto devuélve 'Día Internacional de la Mujer'.\n",
    "festivos.get(\"Día Internacional de la Mujer\")"
   ]
  },
  {
   "cell_type": "code",
   "execution_count": null,
   "id": "60f58080",
   "metadata": {},
   "outputs": [],
   "source": [
    "#18.    Obten el festivo que haya el 31/11, y si no existe crea un par de clave-valor nuevo con el valor de 'Todos los Santos'"
   ]
  },
  {
   "cell_type": "code",
   "execution_count": 93,
   "id": "f7c66a6e",
   "metadata": {},
   "outputs": [],
   "source": [
    "festivos.get(\"Todos los Santos\")"
   ]
  },
  {
   "cell_type": "markdown",
   "id": "df2bdff3",
   "metadata": {},
   "source": [
    "Ejercicios de sets:"
   ]
  },
  {
   "cell_type": "code",
   "execution_count": 94,
   "id": "d3b9532a",
   "metadata": {},
   "outputs": [
    {
     "data": {
      "text/plain": [
       "[10,\n",
       " 10,\n",
       " 13,\n",
       " 14,\n",
       " 12,\n",
       " 15,\n",
       " 12,\n",
       " 11,\n",
       " 13,\n",
       " 17,\n",
       " 18,\n",
       " 15,\n",
       " 15,\n",
       " 17,\n",
       " 17,\n",
       " 13,\n",
       " 13,\n",
       " 11,\n",
       " 12,\n",
       " 10,\n",
       " 12,\n",
       " 14,\n",
       " 12,\n",
       " 12,\n",
       " 11,\n",
       " 12,\n",
       " 16,\n",
       " 16,\n",
       " 14,\n",
       " 17,\n",
       " 18]"
      ]
     },
     "execution_count": 94,
     "metadata": {},
     "output_type": "execute_result"
    }
   ],
   "source": [
    "#Definir sets\n",
    "# 1.De# fine la lista\n",
    "\n",
    "temperaturas_diciembre = [10, 10, 13, 14, 12, 15, \n",
    "                          12, 11, 13, 17, 18, 15, \n",
    "                          15, 17, 17, 13, 13, 11,\n",
    "                          12, 10, 12, 14, 12, 12,\n",
    "                          11, 12, 16, 16, 14, 17, 18]\n",
    "temperaturas_diciembre"
   ]
  },
  {
   "cell_type": "code",
   "execution_count": 95,
   "id": "6d04cb68",
   "metadata": {},
   "outputs": [
    {
     "data": {
      "text/plain": [
       "{10, 11, 12, 13, 14, 15, 16, 17, 18}"
      ]
     },
     "execution_count": 95,
     "metadata": {},
     "output_type": "execute_result"
    }
   ],
   "source": [
    "#2.Conviértala en un set llamado diciembre.\n",
    "\n",
    "diciembre = set(temperaturas_diciembre)\n",
    "diciembre"
   ]
  },
  {
   "cell_type": "code",
   "execution_count": 98,
   "id": "4ad73eb7",
   "metadata": {},
   "outputs": [
    {
     "data": {
      "text/plain": [
       "{'amarilo', 'azul', 'blanco', 'niegro', 'rojo'}"
      ]
     },
     "execution_count": 98,
     "metadata": {},
     "output_type": "execute_result"
    }
   ],
   "source": [
    "#3.Piensa en 6 colores y almacenalos en un set llamado colores.\n",
    "colores1= (\"amarilo\", \"rojo\", \"azul\", \"blanco\", \"niegro\")\n",
    "colores = set(colores1)\n",
    "colores"
   ]
  },
  {
   "cell_type": "code",
   "execution_count": null,
   "id": "ceb8da6f",
   "metadata": {},
   "outputs": [],
   "source": [
    "#Ampliar sets\n",
    "#4. Añade 'lila' a colores.\n",
    "#5. Añade 'azul', 'rojo', y 'granate' a colores usando .update().\n",
    "in, not in\n",
    "#6.Tu set de colores, ¿tiene 'verde'?\n",
    "#7. ¿Y tiene 'ROJO'?"
   ]
  },
  {
   "cell_type": "code",
   "execution_count": 100,
   "id": "d2c43cfe",
   "metadata": {},
   "outputs": [
    {
     "data": {
      "text/plain": [
       "{'amarilo', 'azul', 'blanco', 'lila', 'niegro', 'rojo'}"
      ]
     },
     "execution_count": 100,
     "metadata": {},
     "output_type": "execute_result"
    }
   ],
   "source": [
    "colores.add(\"lila\")\n",
    "colores"
   ]
  },
  {
   "cell_type": "code",
   "execution_count": 101,
   "id": "d17e90af",
   "metadata": {},
   "outputs": [
    {
     "data": {
      "text/plain": [
       "{'amarilo', 'azul', 'blanco', 'granate', 'lila', 'niegro', 'rojo'}"
      ]
     },
     "execution_count": 101,
     "metadata": {},
     "output_type": "execute_result"
    }
   ],
   "source": [
    "colores.add(\"granate\")\n",
    "colores"
   ]
  },
  {
   "cell_type": "code",
   "execution_count": 102,
   "id": "2cefedb1",
   "metadata": {},
   "outputs": [
    {
     "data": {
      "text/plain": [
       "False"
      ]
     },
     "execution_count": 102,
     "metadata": {},
     "output_type": "execute_result"
    }
   ],
   "source": [
    "\"verde\" in colores"
   ]
  },
  {
   "cell_type": "code",
   "execution_count": 103,
   "id": "86e8d8d6",
   "metadata": {},
   "outputs": [
    {
     "data": {
      "text/plain": [
       "True"
      ]
     },
     "execution_count": 103,
     "metadata": {},
     "output_type": "execute_result"
    }
   ],
   "source": [
    "\"rojo\" in colores"
   ]
  },
  {
   "cell_type": "code",
   "execution_count": null,
   "id": "a2edb765",
   "metadata": {},
   "outputs": [],
   "source": [
    "#Copiar, borrar elementos\n",
    "#8.Define el set enero para que sea igual a diciembre.\n",
    "#9.Quita las temperaturas 17, y 18 de enero.\n",
    "#10.Tamaño de un set\n",
    "#11. Cuántas temperaturas distintas había en diciembre?\n",
    "#12.¿Y cuántas en enero?"
   ]
  },
  {
   "cell_type": "code",
   "execution_count": 104,
   "id": "79a2d4f4",
   "metadata": {},
   "outputs": [
    {
     "data": {
      "text/plain": [
       "{10, 11, 12, 13, 14, 15, 16, 17, 18}"
      ]
     },
     "execution_count": 104,
     "metadata": {},
     "output_type": "execute_result"
    }
   ],
   "source": [
    "enero = diciembre\n",
    "enero"
   ]
  },
  {
   "cell_type": "code",
   "execution_count": 107,
   "id": "c618c149",
   "metadata": {},
   "outputs": [
    {
     "ename": "TypeError",
     "evalue": "set.remove() takes exactly one argument (2 given)",
     "output_type": "error",
     "traceback": [
      "\u001b[31m---------------------------------------------------------------------------\u001b[39m",
      "\u001b[31mTypeError\u001b[39m                                 Traceback (most recent call last)",
      "\u001b[36mCell\u001b[39m\u001b[36m \u001b[39m\u001b[32mIn[107]\u001b[39m\u001b[32m, line 1\u001b[39m\n\u001b[32m----> \u001b[39m\u001b[32m1\u001b[39m \u001b[43menero\u001b[49m\u001b[43m.\u001b[49m\u001b[43mremove\u001b[49m\u001b[43m(\u001b[49m\u001b[33;43m\"\u001b[39;49m\u001b[33;43m17\u001b[39;49m\u001b[33;43m\"\u001b[39;49m\u001b[43m,\u001b[49m\u001b[33;43m\"\u001b[39;49m\u001b[33;43m18\u001b[39;49m\u001b[33;43m\"\u001b[39;49m\u001b[43m)\u001b[49m\n",
      "\u001b[31mTypeError\u001b[39m: set.remove() takes exactly one argument (2 given)"
     ]
    }
   ],
   "source": [
    "enero.remove(\"17\",\"18\")"
   ]
  },
  {
   "cell_type": "code",
   "execution_count": 109,
   "id": "862ff030",
   "metadata": {},
   "outputs": [
    {
     "ename": "AttributeError",
     "evalue": "'set' object has no attribute 'len'",
     "output_type": "error",
     "traceback": [
      "\u001b[31m---------------------------------------------------------------------------\u001b[39m",
      "\u001b[31mAttributeError\u001b[39m                            Traceback (most recent call last)",
      "\u001b[36mCell\u001b[39m\u001b[36m \u001b[39m\u001b[32mIn[109]\u001b[39m\u001b[32m, line 1\u001b[39m\n\u001b[32m----> \u001b[39m\u001b[32m1\u001b[39m \u001b[43menero\u001b[49m\u001b[43m.\u001b[49m\u001b[43mlen\u001b[49m()\n",
      "\u001b[31mAttributeError\u001b[39m: 'set' object has no attribute 'len'"
     ]
    }
   ],
   "source": [
    "enero.len()"
   ]
  },
  {
   "cell_type": "code",
   "execution_count": 110,
   "id": "b1ddbf2b",
   "metadata": {},
   "outputs": [
    {
     "data": {
      "text/plain": [
       "9"
      ]
     },
     "execution_count": 110,
     "metadata": {},
     "output_type": "execute_result"
    }
   ],
   "source": [
    "len(diciembre)"
   ]
  },
  {
   "cell_type": "code",
   "execution_count": 111,
   "id": "99cdd890",
   "metadata": {},
   "outputs": [
    {
     "data": {
      "text/plain": [
       "9"
      ]
     },
     "execution_count": 111,
     "metadata": {},
     "output_type": "execute_result"
    }
   ],
   "source": [
    "len(enero)"
   ]
  },
  {
   "cell_type": "code",
   "execution_count": null,
   "id": "ff808389",
   "metadata": {},
   "outputs": [],
   "source": [
    "#Conjuntos con sets\n",
    "#13.Identifica los elementos que hay en diciembre que no están en enero.\n",
    "#14.Identifica los elementos que hay en enero que no están en diciembre.\n",
    "#15.Identifica los elementos que tienen en común diciembre y enero.\n",
    "#16.Identifica la diferencia simétrica de colores y {'marrón','amarillo','cyan'}. ¿Qué significa este resultado?\n",
    "\n",
    "#Comparar sets\n",
    "#17Son disjoint diciembre y enero? ¿Por qué (no)?\n",
    "#18.¿Es {'rojo','azul'} un superset de colores?\n",
    "#19.¿Y un subset?"
   ]
  },
  {
   "cell_type": "code",
   "execution_count": 112,
   "id": "1330b4f4",
   "metadata": {},
   "outputs": [
    {
     "ename": "AttributeError",
     "evalue": "'builtin_function_or_method' object has no attribute 'enero'",
     "output_type": "error",
     "traceback": [
      "\u001b[31m---------------------------------------------------------------------------\u001b[39m",
      "\u001b[31mAttributeError\u001b[39m                            Traceback (most recent call last)",
      "\u001b[36mCell\u001b[39m\u001b[36m \u001b[39m\u001b[32mIn[112]\u001b[39m\u001b[32m, line 1\u001b[39m\n\u001b[32m----> \u001b[39m\u001b[32m1\u001b[39m \u001b[43mdiciembre\u001b[49m\u001b[43m.\u001b[49m\u001b[43mintersection\u001b[49m\u001b[43m.\u001b[49m\u001b[43menero\u001b[49m\n",
      "\u001b[31mAttributeError\u001b[39m: 'builtin_function_or_method' object has no attribute 'enero'"
     ]
    }
   ],
   "source": [
    "diciembre.intersection.enero"
   ]
  },
  {
   "cell_type": "code",
   "execution_count": 114,
   "id": "ff6e3a1d",
   "metadata": {},
   "outputs": [
    {
     "ename": "SyntaxError",
     "evalue": "invalid syntax (2706719632.py, line 1)",
     "output_type": "error",
     "traceback": [
      "  \u001b[36mCell\u001b[39m\u001b[36m \u001b[39m\u001b[32mIn[114]\u001b[39m\u001b[32m, line 1\u001b[39m\n\u001b[31m    \u001b[39m\u001b[31menero difference diciembre\u001b[39m\n          ^\n\u001b[31mSyntaxError\u001b[39m\u001b[31m:\u001b[39m invalid syntax\n"
     ]
    }
   ],
   "source": [
    "enero difference diciembre"
   ]
  }
 ],
 "metadata": {
  "kernelspec": {
   "display_name": "Python 3",
   "language": "python",
   "name": "python3"
  },
  "language_info": {
   "codemirror_mode": {
    "name": "ipython",
    "version": 3
   },
   "file_extension": ".py",
   "mimetype": "text/x-python",
   "name": "python",
   "nbconvert_exporter": "python",
   "pygments_lexer": "ipython3",
   "version": "3.13.7"
  }
 },
 "nbformat": 4,
 "nbformat_minor": 5
}
