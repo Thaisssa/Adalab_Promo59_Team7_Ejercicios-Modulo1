{
 "cells": [
  {
   "cell_type": "code",
   "execution_count": 14,
   "id": "39d8e3a6",
   "metadata": {},
   "outputs": [],
   "source": [
    "#jercicios de diccionarios"
   ]
  },
  {
   "cell_type": "markdown",
   "id": "e80e4e22",
   "metadata": {},
   "source": [
    "#Definir diccionarios"
   ]
  },
  {
   "cell_type": "markdown",
   "id": "f8b38b06",
   "metadata": {},
   "source": [
    "#Crea el diccionario festivos con las fechas como claves y los nombres como valores: 01/01: Año Nuevo, 06/01: Epifanía del Señor, 15/04: Viernes Santo, 15/08: Asunción de la Virgen, 12/10: Fiesta Nacional de España, 01/11: Todos los Santos, 06/12: Día de la Constitución Española, y 08/12: Inmaculada Concepción.\n",
    "\n",
    "festivos = {\n",
    "\"01/01\": \"Ano Nuevo\",\"06/01\":\"Epifanía del Señor\": \"15/04\":\"Viernes Santo\",\n",
    "\"15/08\": \"Assunción de la Virgen\",\"12/10\": \" Fiesta Nacional de España\", \"01/11\":\" Todos los Santos\", \"06/12\":\"Día de la Constitución Española\", \"08/12\": \"Inmaculada Concepción\"\n",
    "}"
   ]
  },
  {
   "cell_type": "markdown",
   "id": "864923d4",
   "metadata": {},
   "source": [
    "festivos = {\n",
    "\"01/01\": \"Ano Nuevo\",\"06/01\":\"Epifanía del Señor\": \"15/04\":\"Viernes Santo\",\n",
    "\"15/08\": \"Assunción de la Virgen\",\"12/10\": \" Fiesta Nacional de España\", \"01/11\":\" Todos los Santos\", \"06/12\":\"Día de la Constitución Española\", \"08/12\": \"Inmaculada Concepción\"\n",
    "}"
   ]
  },
  {
   "cell_type": "code",
   "execution_count": 15,
   "id": "0f737ace",
   "metadata": {},
   "outputs": [
    {
     "data": {
      "text/plain": [
       "{'01/01': 'Ano Nuevo',\n",
       " '06/01': 'Epifanía del Señor',\n",
       " '155/04': 'Viernes Santo',\n",
       " '15/08': 'Assunción de la Virgen',\n",
       " '12/10': ' Fiesta Nacional de España',\n",
       " '01/11': ' Todos los Santos',\n",
       " '06/12': 'Día de la Constitución Española',\n",
       " '08/12': 'Inmaculada Concepción'}"
      ]
     },
     "execution_count": 15,
     "metadata": {},
     "output_type": "execute_result"
    }
   ],
   "source": [
    "#1.ea el diccionario festivos con las fechas como claves y los nombres como valores: 01/01: Año Nuevo, 06/01: Epifanía del Señor, 15/04: Viernes Santo, 15/08: Asunción de la Virgen, 12/10: Fiesta Nacional de España, 01/11: Todos los Santos, 06/12: Día de la Constitución Española, y 08/12: Inmaculada Concepción.\n",
    "\n",
    "festivos = {\n",
    "\"01/01\": \"Ano Nuevo\",\n",
    "\"06/01\":\"Epifanía del Señor\", \n",
    "\"155/04\":\"Viernes Santo\",\n",
    "\"15/08\": \"Assunción de la Virgen\",\n",
    "\"12/10\": \" Fiesta Nacional de España\", \n",
    "\"01/11\":\" Todos los Santos\", \n",
    "\"06/12\":\"Día de la Constitución Española\", \n",
    "\"08/12\": \"Inmaculada Concepción\"\n",
    "}\n",
    "festivos"
   ]
  },
  {
   "cell_type": "code",
   "execution_count": 16,
   "id": "4c31c9f7",
   "metadata": {},
   "outputs": [
    {
     "data": {
      "text/plain": [
       "{'Bélgica': 'Phillipe',\n",
       " ' Dinamarca': 'Margrethe II',\n",
       " 'Holanda': 'Beatrix',\n",
       " 'Noruega': 'Harald V',\n",
       " 'España': 'Felipe VI',\n",
       " 'Reino Unido': ' Carlos III'}"
      ]
     },
     "execution_count": 16,
     "metadata": {},
     "output_type": "execute_result"
    }
   ],
   "source": [
    "#Crea el diccionario monarcas con los países como claves y los nombres como valores:\n",
    "\n",
    "Monarcas = {\n",
    "\"Bélgica\": \"Phillipe\",\n",
    "\" Dinamarca\": \"Margrethe II\",\n",
    "\"Holanda\": \"Beatrix\",\n",
    "\"Noruega\": \"Harald V\",\"\"\n",
    "\"España\": \"Felipe VI\",\n",
    "\"Reino Unido\": \" Carlos III\"\n",
    "}\n",
    "Monarcas\n"
   ]
  },
  {
   "cell_type": "code",
   "execution_count": 17,
   "id": "8e3fd58c",
   "metadata": {},
   "outputs": [],
   "source": [
    "#Leer, añadir, y cambiar elementos"
   ]
  },
  {
   "cell_type": "markdown",
   "id": "e260e9b9",
   "metadata": {},
   "source": []
  },
  {
   "cell_type": "code",
   "execution_count": 18,
   "id": "0cc4a6d6",
   "metadata": {},
   "outputs": [],
   "source": [
    "#3.¿Qué festivo hay el 15/04\n",
    "festivos.get(\"15/04\")"
   ]
  },
  {
   "cell_type": "markdown",
   "id": "a2811ecf",
   "metadata": {},
   "source": [
    "#4.La reina 'Beatrix' abdicó, ahora es el rey 'Willem-Alexander'. Actualiza el dict.\n",
    "\n",
    "Momarcas.pop(\"Beatrix\")\n",
    "monarcas\n"
   ]
  },
  {
   "cell_type": "code",
   "execution_count": 19,
   "id": "e228e0fb",
   "metadata": {},
   "outputs": [],
   "source": [
    "#4.La reina 'Beatrix' abdicó, ahora es el rey 'Willem-Alexander'. Actualiza el dict.\n"
   ]
  },
  {
   "cell_type": "code",
   "execution_count": 20,
   "id": "39afbe42",
   "metadata": {},
   "outputs": [
    {
     "ename": "NameError",
     "evalue": "name 'monarcas' is not defined",
     "output_type": "error",
     "traceback": [
      "\u001b[31m---------------------------------------------------------------------------\u001b[39m",
      "\u001b[31mNameError\u001b[39m                                 Traceback (most recent call last)",
      "\u001b[36mCell\u001b[39m\u001b[36m \u001b[39m\u001b[32mIn[20]\u001b[39m\u001b[32m, line 1\u001b[39m\n\u001b[32m----> \u001b[39m\u001b[32m1\u001b[39m \u001b[43mmonarcas\u001b[49m[\u001b[33m\"\u001b[39m\u001b[33mDinamarca\u001b[39m\u001b[33m\"\u001b[39m] = \u001b[33m\"\u001b[39m\u001b[33mWillem-Alexander\u001b[39m\u001b[33m\"\u001b[39m\n",
      "\u001b[31mNameError\u001b[39m: name 'monarcas' is not defined"
     ]
    }
   ],
   "source": [
    "monarcas[\"Dinamarca\"] = \"Willem-Alexander\""
   ]
  },
  {
   "cell_type": "markdown",
   "id": "62fcd7ec",
   "metadata": {},
   "source": [
    "#El rey de Luxemburgo se llama Henri. Añadelo al dict usando .update().\n",
    "\n",
    "Monarcas.update(\"Luxemburgo\": \"Henri\")\n",
    "Monarcas"
   ]
  },
  {
   "cell_type": "code",
   "execution_count": null,
   "id": "6d83f464",
   "metadata": {},
   "outputs": [
    {
     "data": {
      "text/plain": [
       "{'Bélgica': 'Phillipe',\n",
       " ' Dinamarca': 'Margrethe II',\n",
       " 'Holanda': 'Beatrix',\n",
       " 'Noruega': 'Harald V',\n",
       " 'España': 'Felipe VI',\n",
       " 'Reino Unido': ' Carlos III',\n",
       " 'Luxemburgo': 'Henri'}"
      ]
     },
     "execution_count": 38,
     "metadata": {},
     "output_type": "execute_result"
    }
   ],
   "source": [
    "#5. rey de Luxemburgo se llama Henri. Añadelo al dict usando .update().\n",
    "\n",
    "Monarcas.update({\"Luxemburgo\": \"Henri\"})\n",
    "Monarcas"
   ]
  },
  {
   "cell_type": "code",
   "execution_count": null,
   "id": "7a79c49e",
   "metadata": {},
   "outputs": [
    {
     "data": {
      "text/plain": [
       "7"
      ]
     },
     "execution_count": 46,
     "metadata": {},
     "output_type": "execute_result"
    }
   ],
   "source": [
    "#.Comprobarcontenidos\n",
    " #6.¿Cuántos países están definidos en monar\n",
    " \n",
    "len(Monarcas)"
   ]
  },
  {
   "cell_type": "code",
   "execution_count": null,
   "id": "29e4d4d8",
   "metadata": {},
   "outputs": [
    {
     "data": {
      "text/plain": [
       "False"
      ]
     },
     "execution_count": 47,
     "metadata": {},
     "output_type": "execute_result"
    }
   ],
   "source": [
    "#7.Monaco' uno de ellos?\n",
    "\n",
    "\"Monaco\" in Monarcas"
   ]
  },
  {
   "cell_type": "code",
   "execution_count": null,
   "id": "64cc4914",
   "metadata": {},
   "outputs": [
    {
     "data": {
      "text/plain": [
       "False"
      ]
     },
     "execution_count": 53,
     "metadata": {},
     "output_type": "execute_result"
    }
   ],
   "source": [
    "#8.     ¿Es verdad que nos olvidamos de poner 'Suecia'? Compruébalo de una manera en que obtengas un True o False.\n",
    "\n",
    "\"Suencia \" in Monarcas"
   ]
  },
  {
   "cell_type": "markdown",
   "id": "76220131",
   "metadata": {},
   "source": [
    "#Listar los contenidos\n",
    "\n",
    "#9.Saca una lista de todos los países en el dict monarcas.\n",
    "Monarcas(values)"
   ]
  },
  {
   "cell_type": "code",
   "execution_count": 30,
   "id": "5496a0cb",
   "metadata": {},
   "outputs": [
    {
     "ename": "NameError",
     "evalue": "name 'monarcas' is not defined",
     "output_type": "error",
     "traceback": [
      "\u001b[31m---------------------------------------------------------------------------\u001b[39m",
      "\u001b[31mNameError\u001b[39m                                 Traceback (most recent call last)",
      "\u001b[36mCell\u001b[39m\u001b[36m \u001b[39m\u001b[32mIn[30]\u001b[39m\u001b[32m, line 1\u001b[39m\n\u001b[32m----> \u001b[39m\u001b[32m1\u001b[39m (\u001b[43mmonarcas\u001b[49m.keys())\n",
      "\u001b[31mNameError\u001b[39m: name 'monarcas' is not defined"
     ]
    }
   ],
   "source": [
    "(monarcas.keys())"
   ]
  },
  {
   "cell_type": "markdown",
   "id": "e5d435c3",
   "metadata": {},
   "source": [
    "#10. Saca una lista de los nombres de los festivos.\n",
    "key(festivos)\n"
   ]
  },
  {
   "cell_type": "code",
   "execution_count": 22,
   "id": "d1df2803",
   "metadata": {},
   "outputs": [
    {
     "data": {
      "text/plain": [
       "dict_keys(['01/01', '06/01', '155/04', '15/08', '12/10', '01/11', '06/12', '08/12'])"
      ]
     },
     "execution_count": 22,
     "metadata": {},
     "output_type": "execute_result"
    }
   ],
   "source": [
    "festivos.keys()"
   ]
  },
  {
   "cell_type": "code",
   "execution_count": 31,
   "id": "d451103d",
   "metadata": {},
   "outputs": [
    {
     "ename": "AttributeError",
     "evalue": "'dict' object has no attribute 'valeus'",
     "output_type": "error",
     "traceback": [
      "\u001b[31m---------------------------------------------------------------------------\u001b[39m",
      "\u001b[31mAttributeError\u001b[39m                            Traceback (most recent call last)",
      "\u001b[36mCell\u001b[39m\u001b[36m \u001b[39m\u001b[32mIn[31]\u001b[39m\u001b[32m, line 1\u001b[39m\n\u001b[32m----> \u001b[39m\u001b[32m1\u001b[39m \u001b[43mfestivos\u001b[49m\u001b[43m.\u001b[49m\u001b[43mvaleus\u001b[49m()\n",
      "\u001b[31mAttributeError\u001b[39m: 'dict' object has no attribute 'valeus'"
     ]
    }
   ],
   "source": [
    "festivos.valeus()"
   ]
  },
  {
   "cell_type": "code",
   "execution_count": null,
   "id": "941fe336",
   "metadata": {},
   "outputs": [],
   "source": [
    "#11."
   ]
  },
  {
   "cell_type": "markdown",
   "id": "15679b2f",
   "metadata": {},
   "source": [
    "#11.Imprime el diccionario de festivos.\n",
    "#12.Imprime una lista de tuplas de todos los elementos que hay en festivos.\n"
   ]
  },
  {
   "cell_type": "code",
   "execution_count": null,
   "id": "4e09dbc8",
   "metadata": {},
   "outputs": [
    {
     "data": {
      "text/plain": [
       "{'01/01': 'Ano Nuevo',\n",
       " '06/01': 'Epifanía del Señor',\n",
       " '155/04': 'Viernes Santo',\n",
       " '15/08': 'Assunción de la Virgen',\n",
       " '12/10': ' Fiesta Nacional de España',\n",
       " '01/11': ' Todos los Santos',\n",
       " '06/12': 'Día de la Constitución Española',\n",
       " '08/12': 'Inmaculada Concepción'}"
      ]
     },
     "execution_count": 67,
     "metadata": {},
     "output_type": "execute_result"
    }
   ],
   "source": [
    "festivos"
   ]
  },
  {
   "cell_type": "code",
   "execution_count": 28,
   "id": "6935ea10",
   "metadata": {},
   "outputs": [
    {
     "data": {
      "text/plain": [
       "[('01/01', 'Ano Nuevo'),\n",
       " ('06/01', 'Epifanía del Señor'),\n",
       " ('155/04', 'Viernes Santo'),\n",
       " ('15/08', 'Assunción de la Virgen'),\n",
       " ('12/10', ' Fiesta Nacional de España'),\n",
       " ('01/11', ' Todos los Santos'),\n",
       " ('06/12', 'Día de la Constitución Española'),\n",
       " ('08/12', 'Inmaculada Concepción')]"
      ]
     },
     "execution_count": 28,
     "metadata": {},
     "output_type": "execute_result"
    }
   ],
   "source": [
    "# 12. Imprime una lista  de tuplas de todos los elementos que hay en festivos.\n",
    "list(festivos.items())"
   ]
  },
  {
   "cell_type": "markdown",
   "id": "796dca08",
   "metadata": {},
   "source": [
    "Copiar dicts, y borrar elementos\n",
    "\n",
    "13.Copia monarcas a monarcas2010.\n",
    "14. Quita España de monarcas2010.\n",
    "15.Quita el último elemento de monarcas2010."
   ]
  },
  {
   "cell_type": "code",
   "execution_count": null,
   "id": "63f83009",
   "metadata": {},
   "outputs": [
    {
     "data": {
      "text/plain": [
       "{'Bélgica': 'Phillipe',\n",
       " ' Dinamarca': 'Margrethe II',\n",
       " 'Holanda': 'Beatrix',\n",
       " 'Noruega': 'Harald V',\n",
       " 'España': 'Felipe VI',\n",
       " 'Reino Unido': ' Carlos III',\n",
       " 'Luxemburgo': 'Henri'}"
      ]
     },
     "execution_count": 70,
     "metadata": {},
     "output_type": "execute_result"
    }
   ],
   "source": [
    "#13.\n",
    "Monarcas2010 = (Monarcas)\n",
    "Monarcas2010"
   ]
  },
  {
   "cell_type": "code",
   "execution_count": 33,
   "id": "080d31a4",
   "metadata": {},
   "outputs": [
    {
     "ename": "NameError",
     "evalue": "name 'monarcas2010' is not defined",
     "output_type": "error",
     "traceback": [
      "\u001b[31m---------------------------------------------------------------------------\u001b[39m",
      "\u001b[31mNameError\u001b[39m                                 Traceback (most recent call last)",
      "\u001b[36mCell\u001b[39m\u001b[36m \u001b[39m\u001b[32mIn[33]\u001b[39m\u001b[32m, line 3\u001b[39m\n\u001b[32m      1\u001b[39m \u001b[38;5;66;03m#14\u001b[39;00m\n\u001b[32m----> \u001b[39m\u001b[32m3\u001b[39m \u001b[43mmonarcas2010\u001b[49m.pop(\u001b[33m\"\u001b[39m\u001b[33mEspaña\u001b[39m\u001b[33m\"\u001b[39m)\n\u001b[32m      4\u001b[39m monarcas2010\n",
      "\u001b[31mNameError\u001b[39m: name 'monarcas2010' is not defined"
     ]
    }
   ],
   "source": [
    "#14\n",
    "\n",
    "monarcas2010.pop(\"España\")\n",
    "monarcas2010"
   ]
  },
  {
   "cell_type": "code",
   "execution_count": 34,
   "id": "97f20c0b",
   "metadata": {},
   "outputs": [
    {
     "ename": "NameError",
     "evalue": "name 'monarcas2010' is not defined",
     "output_type": "error",
     "traceback": [
      "\u001b[31m---------------------------------------------------------------------------\u001b[39m",
      "\u001b[31mNameError\u001b[39m                                 Traceback (most recent call last)",
      "\u001b[36mCell\u001b[39m\u001b[36m \u001b[39m\u001b[32mIn[34]\u001b[39m\u001b[32m, line 1\u001b[39m\n\u001b[32m----> \u001b[39m\u001b[32m1\u001b[39m \u001b[43mmonarcas2010\u001b[49m.pop(\u001b[33m\"\u001b[39m\u001b[33mEspaña\u001b[39m\u001b[33m\"\u001b[39m)\n\u001b[32m      2\u001b[39m monarcas2010\n",
      "\u001b[31mNameError\u001b[39m: name 'monarcas2010' is not defined"
     ]
    }
   ],
   "source": [
    "monarcas2010.pop(\"España\")\n",
    "monarcas2010"
   ]
  },
  {
   "cell_type": "code",
   "execution_count": null,
   "id": "d1f4e7b1",
   "metadata": {},
   "outputs": [
    {
     "data": {
      "text/plain": [
       "{'Bélgica': 'Phillipe',\n",
       " ' Dinamarca': 'Margrethe II',\n",
       " 'Holanda': 'Beatrix',\n",
       " 'Noruega': 'Harald V',\n",
       " 'España': 'Felipe VI'}"
      ]
     },
     "execution_count": 82,
     "metadata": {},
     "output_type": "execute_result"
    }
   ],
   "source": [
    "#15.\n",
    "Monarcas.popitem()\n",
    "Monarcas"
   ]
  },
  {
   "cell_type": "code",
   "execution_count": 26,
   "id": "27cbdfe4",
   "metadata": {},
   "outputs": [
    {
     "ename": "NameError",
     "evalue": "name 'clear' is not defined",
     "output_type": "error",
     "traceback": [
      "\u001b[31m---------------------------------------------------------------------------\u001b[39m",
      "\u001b[31mNameError\u001b[39m                                 Traceback (most recent call last)",
      "\u001b[36mCell\u001b[39m\u001b[36m \u001b[39m\u001b[32mIn[26]\u001b[39m\u001b[32m, line 2\u001b[39m\n\u001b[32m      1\u001b[39m \u001b[38;5;66;03m#Vaciar y borrar dicts\u001b[39;00m\n\u001b[32m----> \u001b[39m\u001b[32m2\u001b[39m \u001b[43mclear\u001b[49m(dicts)\n",
      "\u001b[31mNameError\u001b[39m: name 'clear' is not defined"
     ]
    }
   ],
   "source": [
    "#Vaciar y borrar dicts\n",
    "clear(dicts)\n"
   ]
  },
  {
   "cell_type": "markdown",
   "id": "be2d0b66",
   "metadata": {},
   "source": [
    "#15.Vacia el dict monarcas2010.\n"
   ]
  },
  {
   "cell_type": "code",
   "execution_count": null,
   "id": "443bd61a",
   "metadata": {},
   "outputs": [
    {
     "name": "stdout",
     "output_type": "stream",
     "text": [
      "\f\n"
     ]
    }
   ],
   "source": [
    "clear(Monarcas2010)"
   ]
  },
  {
   "cell_type": "code",
   "execution_count": null,
   "id": "271c8b1b",
   "metadata": {},
   "outputs": [
    {
     "data": {
      "text/plain": [
       "'Epifanía del Señor'"
      ]
     },
     "execution_count": 91,
     "metadata": {},
     "output_type": "execute_result"
    }
   ],
   "source": [
    "#Obtener valores\n",
    "#16. Qué festivo hay el 06/01?\n",
    "\n",
    "festivos.get(\"06/01\")"
   ]
  },
  {
   "cell_type": "code",
   "execution_count": null,
   "id": "393f2b99",
   "metadata": {},
   "outputs": [],
   "source": [
    "#17.     Obten el festivo que haya el 08/03, y en su defecto devuélve 'Día Internacional de la Mujer'.\n",
    "festivos.get(\"Día Internacional de la Mujer\")"
   ]
  },
  {
   "cell_type": "code",
   "execution_count": 35,
   "id": "60f58080",
   "metadata": {},
   "outputs": [
    {
     "data": {
      "text/plain": [
       "'Dia Internacional de la Mujer'"
      ]
     },
     "execution_count": 35,
     "metadata": {},
     "output_type": "execute_result"
    }
   ],
   "source": [
    "#18.    Obten el festivo que haya el 31/11, y si no existe crea un par de clave-valor nuevo con el valor de 'Todos los Santos'\n",
    "\n",
    "festivos.get(\"08/03\", \"Dia Internacional de la Mujer\")"
   ]
  },
  {
   "cell_type": "code",
   "execution_count": null,
   "id": "f7c66a6e",
   "metadata": {},
   "outputs": [],
   "source": [
    "festivos.get(\"Todos los Santos\")"
   ]
  },
  {
   "cell_type": "markdown",
   "id": "df2bdff3",
   "metadata": {},
   "source": [
    "Ejercicios de sets:"
   ]
  },
  {
   "cell_type": "code",
   "execution_count": null,
   "id": "d3b9532a",
   "metadata": {},
   "outputs": [
    {
     "data": {
      "text/plain": [
       "[10,\n",
       " 10,\n",
       " 13,\n",
       " 14,\n",
       " 12,\n",
       " 15,\n",
       " 12,\n",
       " 11,\n",
       " 13,\n",
       " 17,\n",
       " 18,\n",
       " 15,\n",
       " 15,\n",
       " 17,\n",
       " 17,\n",
       " 13,\n",
       " 13,\n",
       " 11,\n",
       " 12,\n",
       " 10,\n",
       " 12,\n",
       " 14,\n",
       " 12,\n",
       " 12,\n",
       " 11,\n",
       " 12,\n",
       " 16,\n",
       " 16,\n",
       " 14,\n",
       " 17,\n",
       " 18]"
      ]
     },
     "execution_count": 94,
     "metadata": {},
     "output_type": "execute_result"
    }
   ],
   "source": [
    "#Definir sets\n",
    "# 1.De# fine la lista\n",
    "\n",
    "temperaturas_diciembre = [10, 10, 13, 14, 12, 15, \n",
    "                          12, 11, 13, 17, 18, 15, \n",
    "                          15, 17, 17, 13, 13, 11,\n",
    "                          12, 10, 12, 14, 12, 12,\n",
    "                          11, 12, 16, 16, 14, 17, 18]\n",
    "temperaturas_diciembre"
   ]
  },
  {
   "cell_type": "code",
   "execution_count": null,
   "id": "6d04cb68",
   "metadata": {},
   "outputs": [
    {
     "data": {
      "text/plain": [
       "{10, 11, 12, 13, 14, 15, 16, 17, 18}"
      ]
     },
     "execution_count": 95,
     "metadata": {},
     "output_type": "execute_result"
    }
   ],
   "source": [
    "#2.Conviértala en un set llamado diciembre.\n",
    "\n",
    "diciembre = set(temperaturas_diciembre)\n",
    "diciembre"
   ]
  },
  {
   "cell_type": "code",
   "execution_count": null,
   "id": "4ad73eb7",
   "metadata": {},
   "outputs": [
    {
     "data": {
      "text/plain": [
       "{'amarilo', 'azul', 'blanco', 'niegro', 'rojo'}"
      ]
     },
     "execution_count": 98,
     "metadata": {},
     "output_type": "execute_result"
    }
   ],
   "source": [
    "#3.Piensa en 6 colores y almacenalos en un set llamado colores.\n",
    "colores1= (\"amarilo\", \"rojo\", \"azul\", \"blanco\", \"niegro\")\n",
    "colores = set(colores1)\n",
    "colores"
   ]
  },
  {
   "cell_type": "code",
   "execution_count": null,
   "id": "ceb8da6f",
   "metadata": {},
   "outputs": [],
   "source": [
    "#Ampliar sets\n",
    "#4. Añade 'lila' a colores.\n",
    "#5. Añade 'azul', 'rojo', y 'granate' a colores usando .update().\n",
    "in, not in\n",
    "#6.Tu set de colores, ¿tiene 'verde'?\n",
    "#7. ¿Y tiene 'ROJO'?"
   ]
  },
  {
   "cell_type": "code",
   "execution_count": null,
   "id": "d2c43cfe",
   "metadata": {},
   "outputs": [
    {
     "data": {
      "text/plain": [
       "{'amarilo', 'azul', 'blanco', 'lila', 'niegro', 'rojo'}"
      ]
     },
     "execution_count": 100,
     "metadata": {},
     "output_type": "execute_result"
    }
   ],
   "source": [
    "colores.add(\"lila\")\n",
    "colores"
   ]
  },
  {
   "cell_type": "code",
   "execution_count": null,
   "id": "d17e90af",
   "metadata": {},
   "outputs": [
    {
     "data": {
      "text/plain": [
       "{'amarilo', 'azul', 'blanco', 'granate', 'lila', 'niegro', 'rojo'}"
      ]
     },
     "execution_count": 101,
     "metadata": {},
     "output_type": "execute_result"
    }
   ],
   "source": [
    "colores.add(\"granate\")\n",
    "colores"
   ]
  },
  {
   "cell_type": "code",
   "execution_count": null,
   "id": "2cefedb1",
   "metadata": {},
   "outputs": [
    {
     "data": {
      "text/plain": [
       "False"
      ]
     },
     "execution_count": 102,
     "metadata": {},
     "output_type": "execute_result"
    }
   ],
   "source": [
    "\"verde\" in colores"
   ]
  },
  {
   "cell_type": "code",
   "execution_count": null,
   "id": "86e8d8d6",
   "metadata": {},
   "outputs": [
    {
     "data": {
      "text/plain": [
       "True"
      ]
     },
     "execution_count": 103,
     "metadata": {},
     "output_type": "execute_result"
    }
   ],
   "source": [
    "\"rojo\" in colores"
   ]
  },
  {
   "cell_type": "code",
   "execution_count": null,
   "id": "a2edb765",
   "metadata": {},
   "outputs": [],
   "source": [
    "#Copiar, borrar elementos\n",
    "#8.Define el set enero para que sea igual a diciembre.\n",
    "#9.Quita las temperaturas 17, y 18 de enero.\n",
    "#10.Tamaño de un set\n",
    "#11. Cuántas temperaturas distintas había en diciembre?\n",
    "#12.¿Y cuántas en enero?"
   ]
  },
  {
   "cell_type": "code",
   "execution_count": null,
   "id": "79a2d4f4",
   "metadata": {},
   "outputs": [
    {
     "data": {
      "text/plain": [
       "{10, 11, 12, 13, 14, 15, 16, 17, 18}"
      ]
     },
     "execution_count": 104,
     "metadata": {},
     "output_type": "execute_result"
    }
   ],
   "source": [
    "enero = diciembre\n",
    "enero"
   ]
  },
  {
   "cell_type": "code",
   "execution_count": 40,
   "id": "c618c149",
   "metadata": {},
   "outputs": [
    {
     "ename": "NameError",
     "evalue": "name 'enero' is not defined",
     "output_type": "error",
     "traceback": [
      "\u001b[31m---------------------------------------------------------------------------\u001b[39m",
      "\u001b[31mNameError\u001b[39m                                 Traceback (most recent call last)",
      "\u001b[36mCell\u001b[39m\u001b[36m \u001b[39m\u001b[32mIn[40]\u001b[39m\u001b[32m, line 1\u001b[39m\n\u001b[32m----> \u001b[39m\u001b[32m1\u001b[39m \u001b[43menero\u001b[49m.remove(\u001b[32m17\u001b[39m)\n\u001b[32m      2\u001b[39m enero.remove(\u001b[32m18\u001b[39m)\n\u001b[32m      3\u001b[39m enero\n",
      "\u001b[31mNameError\u001b[39m: name 'enero' is not defined"
     ]
    }
   ],
   "source": [
    "enero.remove(17)\n",
    "enero.remove(18)\n",
    "enero"
   ]
  },
  {
   "cell_type": "code",
   "execution_count": 41,
   "id": "862ff030",
   "metadata": {},
   "outputs": [
    {
     "ename": "NameError",
     "evalue": "name 'diciembre' is not defined",
     "output_type": "error",
     "traceback": [
      "\u001b[31m---------------------------------------------------------------------------\u001b[39m",
      "\u001b[31mNameError\u001b[39m                                 Traceback (most recent call last)",
      "\u001b[36mCell\u001b[39m\u001b[36m \u001b[39m\u001b[32mIn[41]\u001b[39m\u001b[32m, line 1\u001b[39m\n\u001b[32m----> \u001b[39m\u001b[32m1\u001b[39m \u001b[38;5;28mlen\u001b[39m(\u001b[43mdiciembre\u001b[49m)\n",
      "\u001b[31mNameError\u001b[39m: name 'diciembre' is not defined"
     ]
    }
   ],
   "source": [
    "len(diciembre)"
   ]
  },
  {
   "cell_type": "code",
   "execution_count": 44,
   "id": "231735d2",
   "metadata": {},
   "outputs": [
    {
     "ename": "NameError",
     "evalue": "name 'emero' is not defined",
     "output_type": "error",
     "traceback": [
      "\u001b[31m---------------------------------------------------------------------------\u001b[39m",
      "\u001b[31mNameError\u001b[39m                                 Traceback (most recent call last)",
      "\u001b[36mCell\u001b[39m\u001b[36m \u001b[39m\u001b[32mIn[44]\u001b[39m\u001b[32m, line 1\u001b[39m\n\u001b[32m----> \u001b[39m\u001b[32m1\u001b[39m \u001b[38;5;28mlen\u001b[39m(\u001b[43memero\u001b[49m)\n",
      "\u001b[31mNameError\u001b[39m: name 'emero' is not defined"
     ]
    }
   ],
   "source": [
    "len(emero)"
   ]
  },
  {
   "cell_type": "code",
   "execution_count": 1,
   "id": "b1ddbf2b",
   "metadata": {},
   "outputs": [
    {
     "ename": "NameError",
     "evalue": "name 'diciembre' is not defined",
     "output_type": "error",
     "traceback": [
      "\u001b[31m---------------------------------------------------------------------------\u001b[39m",
      "\u001b[31mNameError\u001b[39m                                 Traceback (most recent call last)",
      "\u001b[36mCell\u001b[39m\u001b[36m \u001b[39m\u001b[32mIn[1]\u001b[39m\u001b[32m, line 1\u001b[39m\n\u001b[32m----> \u001b[39m\u001b[32m1\u001b[39m \u001b[38;5;28mlen\u001b[39m(\u001b[43mdiciembre\u001b[49m)\n",
      "\u001b[31mNameError\u001b[39m: name 'diciembre' is not defined"
     ]
    }
   ],
   "source": [
    "len(diciembre)"
   ]
  },
  {
   "cell_type": "code",
   "execution_count": null,
   "id": "99cdd890",
   "metadata": {},
   "outputs": [
    {
     "data": {
      "text/plain": [
       "9"
      ]
     },
     "execution_count": 111,
     "metadata": {},
     "output_type": "execute_result"
    }
   ],
   "source": [
    "len(enero)"
   ]
  },
  {
   "cell_type": "code",
   "execution_count": null,
   "id": "ff808389",
   "metadata": {},
   "outputs": [],
   "source": [
    "#Conjuntos con sets\n",
    "#13.Identifica los elementos que hay en diciembre que no están en enero.\n",
    "#14.Identifica los elementos que hay en enero que no están en diciembre.\n",
    "#15.Identifica los elementos que tienen en común diciembre y enero.\n",
    "#16.Identifica la diferencia simétrica de colores y {'marrón','amarillo','cyan'}. ¿Qué significa este resultado?\n",
    "\n",
    "#Comparar sets\n",
    "#17Son disjoint diciembre y enero? ¿Por qué (no)?\n",
    "#18.¿Es {'rojo','azul'} un superset de colores?\n",
    "#19.¿Y un subset?"
   ]
  },
  {
   "cell_type": "code",
   "execution_count": null,
   "id": "1330b4f4",
   "metadata": {},
   "outputs": [
    {
     "ename": "AttributeError",
     "evalue": "'builtin_function_or_method' object has no attribute 'enero'",
     "output_type": "error",
     "traceback": [
      "\u001b[31m---------------------------------------------------------------------------\u001b[39m",
      "\u001b[31mAttributeError\u001b[39m                            Traceback (most recent call last)",
      "\u001b[36mCell\u001b[39m\u001b[36m \u001b[39m\u001b[32mIn[112]\u001b[39m\u001b[32m, line 1\u001b[39m\n\u001b[32m----> \u001b[39m\u001b[32m1\u001b[39m \u001b[43mdiciembre\u001b[49m\u001b[43m.\u001b[49m\u001b[43mintersection\u001b[49m\u001b[43m.\u001b[49m\u001b[43menero\u001b[49m\n",
      "\u001b[31mAttributeError\u001b[39m: 'builtin_function_or_method' object has no attribute 'enero'"
     ]
    }
   ],
   "source": [
    "diciembre.intersection.enero"
   ]
  },
  {
   "cell_type": "code",
   "execution_count": null,
   "id": "ff6e3a1d",
   "metadata": {},
   "outputs": [
    {
     "ename": "SyntaxError",
     "evalue": "invalid syntax (2706719632.py, line 1)",
     "output_type": "error",
     "traceback": [
      "  \u001b[36mCell\u001b[39m\u001b[36m \u001b[39m\u001b[32mIn[114]\u001b[39m\u001b[32m, line 1\u001b[39m\n\u001b[31m    \u001b[39m\u001b[31menero difference diciembre\u001b[39m\n          ^\n\u001b[31mSyntaxError\u001b[39m\u001b[31m:\u001b[39m invalid syntax\n"
     ]
    }
   ],
   "source": [
    "enero difference diciembre"
   ]
  }
 ],
 "metadata": {
  "kernelspec": {
   "display_name": "Python 3",
   "language": "python",
   "name": "python3"
  },
  "language_info": {
   "codemirror_mode": {
    "name": "ipython",
    "version": 3
   },
   "file_extension": ".py",
   "mimetype": "text/x-python",
   "name": "python",
   "nbconvert_exporter": "python",
   "pygments_lexer": "ipython3",
   "version": "3.13.7"
  }
 },
 "nbformat": 4,
 "nbformat_minor": 5
}
