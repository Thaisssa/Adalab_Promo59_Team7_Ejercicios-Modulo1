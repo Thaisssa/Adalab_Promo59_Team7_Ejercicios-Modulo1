{
 "cells": [
  {
   "cell_type": "markdown",
   "id": "0fbd73e8",
   "metadata": {},
   "source": [
    "Listas y Tuplas\n",
    "Ejercicios de Listas:"
   ]
  },
  {
   "cell_type": "code",
   "execution_count": null,
   "id": "06af3ffe",
   "metadata": {},
   "outputs": [],
   "source": [
    "#1.Haz una lista llamada colores donde almacenemos los primeros 6 colores que te vengan a la mente.\n",
    "\n"
   ]
  },
  {
   "cell_type": "code",
   "execution_count": 4,
   "id": "cbb83809",
   "metadata": {},
   "outputs": [
    {
     "data": {
      "text/plain": [
       "['rojo', 'amarillo', 'blanco', 'niegro', 'azul']"
      ]
     },
     "execution_count": 4,
     "metadata": {},
     "output_type": "execute_result"
    }
   ],
   "source": [
    "colores = ['rojo', 'amarillo', 'blanco', 'niegro', 'azul']\n",
    "colores"
   ]
  },
  {
   "cell_type": "code",
   "execution_count": 5,
   "id": "eb650637",
   "metadata": {},
   "outputs": [
    {
     "data": {
      "text/plain": [
       "[11, 33, 30, 36, 604]"
      ]
     },
     "execution_count": 5,
     "metadata": {},
     "output_type": "execute_result"
    }
   ],
   "source": [
    "#2.Haz una lista llamada buses de las líneas de autobuses que pasan por tu casa.\n",
    "\n",
    "Buses = [11, 33, 30, 36, 604]\n",
    "Buses"
   ]
  },
  {
   "cell_type": "code",
   "execution_count": 6,
   "id": "d32972c1",
   "metadata": {},
   "outputs": [
    {
     "data": {
      "text/plain": [
       "[13, 14, 17, 19, 29, 16, 13]"
      ]
     },
     "execution_count": 6,
     "metadata": {},
     "output_type": "execute_result"
    }
   ],
   "source": [
    "#3. Apunta la previsión de temperaturas máximas para todos los días de esta semana en temperaturas.\n",
    "\n",
    "Temperaturas = [13,14, 17, 19, 29, 16, 13]\n",
    "Temperaturas\n"
   ]
  },
  {
   "cell_type": "code",
   "execution_count": 7,
   "id": "d93c8a58",
   "metadata": {},
   "outputs": [
    {
     "data": {
      "text/plain": [
       "['Rocio', 'Marine', 'Thaissa', 'Marti']"
      ]
     },
     "execution_count": 7,
     "metadata": {},
     "output_type": "execute_result"
    }
   ],
   "source": [
    "#4- Convierte tu(s) nombre(s) a una lista nombres de caracteres.\n",
    "\n",
    "Nombres = ['Rocio', 'Marine', 'Thaissa', 'Marti']\n",
    "Nombres\n"
   ]
  },
  {
   "cell_type": "code",
   "execution_count": 8,
   "id": "b05d8d29",
   "metadata": {},
   "outputs": [
    {
     "data": {
      "text/plain": [
       "['Lopez', 'SOares', 'Cortez', 'Rodrigues']"
      ]
     },
     "execution_count": 8,
     "metadata": {},
     "output_type": "execute_result"
    }
   ],
   "source": [
    "#3.Convierte tu(s) apellido(s) a una lista apellidos de caracteres.\n",
    "Apelidos = ['Lopez', 'SOares', 'Cortez', 'Rodrigues']\n",
    "Apelidos"
   ]
  },
  {
   "cell_type": "code",
   "execution_count": 9,
   "id": "ff2f29cf",
   "metadata": {},
   "outputs": [
    {
     "data": {
      "text/plain": [
       "5"
      ]
     },
     "execution_count": 9,
     "metadata": {},
     "output_type": "execute_result"
    }
   ],
   "source": [
    "#6.¿Cuántos búses pasan por tu casa?\n",
    "len(Buses)"
   ]
  },
  {
   "cell_type": "code",
   "execution_count": null,
   "id": "cec354e9",
   "metadata": {},
   "outputs": [],
   "source": [
    "#7.¿Cuántos caracteres hay en tu apellido(s) (inluyendo los espacios)?\n"
   ]
  },
  {
   "cell_type": "code",
   "execution_count": 10,
   "id": "dca7a509",
   "metadata": {},
   "outputs": [
    {
     "data": {
      "text/plain": [
       "13"
      ]
     },
     "execution_count": 10,
     "metadata": {},
     "output_type": "execute_result"
    }
   ],
   "source": [
    "#8. ¿Cuáles son las temperaturas máximas (t_max) y mínimas (t_min) para esta semana?\n",
    "max(Temperaturas)\n",
    "min(Temperaturas)\n"
   ]
  },
  {
   "cell_type": "code",
   "execution_count": 12,
   "id": "c2b4463d",
   "metadata": {},
   "outputs": [
    {
     "data": {
      "text/plain": [
       "False"
      ]
     },
     "execution_count": 12,
     "metadata": {},
     "output_type": "execute_result"
    }
   ],
   "source": [
    "#9.Hay una 'e' en tu nombre?\n",
    "\"e\" in Apelidos"
   ]
  },
  {
   "cell_type": "code",
   "execution_count": 13,
   "id": "c85fc45c",
   "metadata": {},
   "outputs": [
    {
     "data": {
      "text/plain": [
       "False"
      ]
     },
     "execution_count": 13,
     "metadata": {},
     "output_type": "execute_result"
    }
   ],
   "source": [
    "#10. Tienes el color 'rosa' en la lista de colores?\n",
    "\"Rosa\" in colores"
   ]
  },
  {
   "cell_type": "code",
   "execution_count": 15,
   "id": "4e8f48b1",
   "metadata": {},
   "outputs": [
    {
     "data": {
      "text/plain": [
       "False"
      ]
     },
     "execution_count": 15,
     "metadata": {},
     "output_type": "execute_result"
    }
   ],
   "source": [
    "#11.  Tiene una 'x' tu nombre? (Usa not in)\n",
    "\"x\" in Nombres\n"
   ]
  },
  {
   "cell_type": "code",
   "execution_count": 16,
   "id": "cbb19a2b",
   "metadata": {},
   "outputs": [
    {
     "data": {
      "text/plain": [
       "[13, 14, 17, 19, 29, 16, 13]"
      ]
     },
     "execution_count": 16,
     "metadata": {},
     "output_type": "execute_result"
    }
   ],
   "source": [
    "#12.Copia el contenido de temperaturas a temperaturas2, y temperaturas3.\n",
    "\n",
    "Temperaturas2 = Temperaturas\n",
    "Temperaturas3 = Temperaturas\n",
    "Temperaturas2\n",
    "Temperaturas3"
   ]
  },
  {
   "cell_type": "code",
   "execution_count": 18,
   "id": "6800a257",
   "metadata": {},
   "outputs": [],
   "source": [
    "#13. Vacía el contenido de la variable temperaturas2\n",
    "Temperaturas2.clear()\n"
   ]
  },
  {
   "cell_type": "code",
   "execution_count": 20,
   "id": "014d1fb8",
   "metadata": {},
   "outputs": [
    {
     "data": {
      "text/plain": [
       "[]"
      ]
     },
     "execution_count": 20,
     "metadata": {},
     "output_type": "execute_result"
    }
   ],
   "source": [
    "#14.Imprime el contenido de temperaturas y temperaturas2.\n",
    "Temperaturas2\n",
    "\n",
    "Temperaturas\n"
   ]
  },
  {
   "cell_type": "code",
   "execution_count": 23,
   "id": "4423e06a",
   "metadata": {},
   "outputs": [
    {
     "data": {
      "text/plain": [
       "['Rocio', 'Marine', 'Thaissa', 'Marti']"
      ]
     },
     "execution_count": 23,
     "metadata": {},
     "output_type": "execute_result"
    }
   ],
   "source": [
    "#15. Copia el contenido de nombres a nombres2.\n",
    "Nombres2 = Nombres\n",
    "Nombres2\n"
   ]
  },
  {
   "cell_type": "code",
   "execution_count": 26,
   "id": "3a9ea632",
   "metadata": {},
   "outputs": [
    {
     "data": {
      "text/plain": [
       "['Lopez', 'SOares', 'Cortez', 'Rodrigues']"
      ]
     },
     "execution_count": 26,
     "metadata": {},
     "output_type": "execute_result"
    }
   ],
   "source": [
    "#16.Copia el contenido de apellidos a apellidos2.\n",
    "Apeldidos2 = Apelidos.copy()\n",
    "Apeldidos2"
   ]
  },
  {
   "cell_type": "code",
   "execution_count": 28,
   "id": "cae29f20",
   "metadata": {},
   "outputs": [
    {
     "data": {
      "text/plain": [
       "[]"
      ]
     },
     "execution_count": 28,
     "metadata": {},
     "output_type": "execute_result"
    }
   ],
   "source": [
    "#17. Ordena la variable temperaturas3 de mayor a menor.\n",
    "Temperaturas.sort()\n",
    "Temperaturas\n"
   ]
  },
  {
   "cell_type": "code",
   "execution_count": 30,
   "id": "2f4f21a0",
   "metadata": {},
   "outputs": [
    {
     "data": {
      "text/plain": [
       "['Marine', 'Marti', 'Rocio', 'Thaissa']"
      ]
     },
     "execution_count": 30,
     "metadata": {},
     "output_type": "execute_result"
    }
   ],
   "source": [
    "#18.Ordena los caracteres de tu nombre y tu apellido en las listas nombres2 y apellidos2. Imprime el resultado y investiga: ¿qué orden ha cogido? ¿Cómo trata las mayúsculas\n",
    "\n",
    "Nombres.sort()\n",
    "Nombres"
   ]
  },
  {
   "cell_type": "code",
   "execution_count": 35,
   "id": "11ca6bfe",
   "metadata": {},
   "outputs": [
    {
     "data": {
      "text/plain": [
       "['Cortez', 'Lopez', 'Rodrigues', 'SOares']"
      ]
     },
     "execution_count": 35,
     "metadata": {},
     "output_type": "execute_result"
    }
   ],
   "source": [
    "Apelidos.sort()\n",
    "Apelidos"
   ]
  },
  {
   "cell_type": "code",
   "execution_count": 36,
   "id": "b3cc5709",
   "metadata": {},
   "outputs": [
    {
     "data": {
      "text/plain": [
       "False"
      ]
     },
     "execution_count": 36,
     "metadata": {},
     "output_type": "execute_result"
    }
   ],
   "source": [
    "#19.¿Cuántas 'a' tiene tu nombre? ¿Y cuántas 'o'?\n",
    "\"a\" in Apelidos\n"
   ]
  },
  {
   "cell_type": "code",
   "execution_count": null,
   "id": "b90c6d8a",
   "metadata": {},
   "outputs": [],
   "source": [
    "#20.Verifica si los resultados de ejercicio 19 son iguales para la lista nombres2."
   ]
  },
  {
   "cell_type": "code",
   "execution_count": null,
   "id": "c5ee6172",
   "metadata": {},
   "outputs": [],
   "source": [
    "#21. ¿Cuántas veces esta semana llega la temperatura a la t_max? ¿Y cuántas a la t_min?\n",
    "\n",
    "\n",
    "\n"
   ]
  },
  {
   "cell_type": "code",
   "execution_count": 38,
   "id": "515fc2ec",
   "metadata": {},
   "outputs": [
    {
     "data": {
      "text/plain": [
       "['monday', 'tuesday', 'wednesday', 'thursday', 'friday', 'saturday', 'sunday']"
      ]
     },
     "execution_count": 38,
     "metadata": {},
     "output_type": "execute_result"
    }
   ],
   "source": [
    "#22. La lista dias_en contiene 'monday', 'tuesday', 'wednesday', 'thursday', 'friday', 'saturday', y 'sunday'.\n",
    "dias = [\n",
    " 'monday', 'tuesday', 'wednesday', 'thursday', 'friday', 'saturday',  'sunday'\n",
    "]\n",
    "dias"
   ]
  },
  {
   "cell_type": "code",
   "execution_count": 41,
   "id": "a0faefc2",
   "metadata": {},
   "outputs": [
    {
     "data": {
      "text/plain": [
       "[10,\n",
       " 10,\n",
       " 13,\n",
       " 14,\n",
       " 12,\n",
       " 15,\n",
       " 12,\n",
       " 11,\n",
       " 13,\n",
       " 17,\n",
       " 18,\n",
       " 15,\n",
       " 15,\n",
       " 17,\n",
       " 17,\n",
       " 13,\n",
       " 13,\n",
       " 11,\n",
       " 12,\n",
       " 10,\n",
       " 12,\n",
       " 14,\n",
       " 12,\n",
       " 12,\n",
       " 11,\n",
       " 12,\n",
       " 16,\n",
       " 16,\n",
       " 14,\n",
       " 17,\n",
       " 18]"
      ]
     },
     "execution_count": 41,
     "metadata": {},
     "output_type": "execute_result"
    }
   ],
   "source": [
    "#23.\n",
    "\n",
    "temperaturas_diciembre = [10, 10, 13, 14, 12, 15,  12, 11, 13, 17, 18, 15, \n",
    "15, 17, 17, 13, 13, 11, 12, 10, 12, 14, 12, 12,\n",
    " 11, 12, 16, 16, 14, 17, 18]\n",
    "temperaturas_diciembre"
   ]
  },
  {
   "cell_type": "code",
   "execution_count": 42,
   "id": "7f12ba73",
   "metadata": {},
   "outputs": [
    {
     "ename": "NameError",
     "evalue": "name 'item' is not defined",
     "output_type": "error",
     "traceback": [
      "\u001b[31m---------------------------------------------------------------------------\u001b[39m",
      "\u001b[31mNameError\u001b[39m                                 Traceback (most recent call last)",
      "\u001b[36mCell\u001b[39m\u001b[36m \u001b[39m\u001b[32mIn[42]\u001b[39m\u001b[32m, line 3\u001b[39m\n\u001b[32m      1\u001b[39m \u001b[38;5;66;03m#24.¿Cuál es el penúltimo día de la semana?\u001b[39;00m\n\u001b[32m----> \u001b[39m\u001b[32m3\u001b[39m \u001b[43mitem\u001b[49m(\u001b[32m5\u001b[39m) \u001b[38;5;129;01min\u001b[39;00m dias\n",
      "\u001b[31mNameError\u001b[39m: name 'item' is not defined"
     ]
    }
   ],
   "source": [
    "#24.¿Cuál es el penúltimo día de la semana?\n",
    "\n",
    "item(5) in dias\n"
   ]
  },
  {
   "cell_type": "code",
   "execution_count": null,
   "id": "ac32bfd0",
   "metadata": {},
   "outputs": [],
   "source": [
    "#25. Cuál es el último elemento de la lista de temperaturas de diciembre?\n"
   ]
  },
  {
   "cell_type": "code",
   "execution_count": 43,
   "id": "4e76ecfa",
   "metadata": {},
   "outputs": [
    {
     "data": {
      "text/plain": [
       "True"
      ]
     },
     "execution_count": 43,
     "metadata": {},
     "output_type": "execute_result"
    }
   ],
   "source": [
    "#26. Está 'friday' en la lista de días en inglés? Si está, ¿dónde?\n",
    "\"friday\" in dias\n"
   ]
  },
  {
   "cell_type": "code",
   "execution_count": 45,
   "id": "8899d027",
   "metadata": {},
   "outputs": [
    {
     "ename": "TypeError",
     "evalue": "'list' object is not callable",
     "output_type": "error",
     "traceback": [
      "\u001b[31m---------------------------------------------------------------------------\u001b[39m",
      "\u001b[31mTypeError\u001b[39m                                 Traceback (most recent call last)",
      "\u001b[36mCell\u001b[39m\u001b[36m \u001b[39m\u001b[32mIn[45]\u001b[39m\u001b[32m, line 2\u001b[39m\n\u001b[32m      1\u001b[39m \u001b[38;5;66;03m#27.¿Cuál era la temperatura máxima en diciembre?\u001b[39;00m\n\u001b[32m----> \u001b[39m\u001b[32m2\u001b[39m \u001b[43mtemperaturas_diciembre\u001b[49m\u001b[43m(\u001b[49m\u001b[38;5;28;43mmax\u001b[39;49m\u001b[43m)\u001b[49m\n",
      "\u001b[31mTypeError\u001b[39m: 'list' object is not callable"
     ]
    }
   ],
   "source": [
    "#27.¿Cuál era la temperatura máxima en diciembre?\n",
    "temperaturas_diciembre(max)\n"
   ]
  },
  {
   "cell_type": "code",
   "execution_count": null,
   "id": "7ad140b5",
   "metadata": {},
   "outputs": [],
   "source": [
    "#28. ncuentra el índice de 'miércoles' en dias_es.\n"
   ]
  },
  {
   "cell_type": "code",
   "execution_count": 47,
   "id": "9198858f",
   "metadata": {},
   "outputs": [
    {
     "ename": "SyntaxError",
     "evalue": "invalid syntax. Perhaps you forgot a comma? (1811385414.py, line 5)",
     "output_type": "error",
     "traceback": [
      "  \u001b[36mCell\u001b[39m\u001b[36m \u001b[39m\u001b[32mIn[47]\u001b[39m\u001b[32m, line 5\u001b[39m\n\u001b[31m    \u001b[39m\u001b[31mprint ('La temperatura máxima esta semana será 14 ºC, que ocurrirá en 1 días(s). El día más frío tendrá una temperatura máxima de 10 ºC, que ocurrirá en 2 día(s)' dias)\u001b[39m\n           ^\n\u001b[31mSyntaxError\u001b[39m\u001b[31m:\u001b[39m invalid syntax. Perhaps you forgot a comma?\n"
     ]
    }
   ],
   "source": [
    "#29.(Bonus) Imprime esta frase en pantalla: 'La temperatura máxima esta semana será 14 ºC, \n",
    "# que ocurrirá en 1 días(s). El día más frío tendrá una temperatura máxima de 10 ºC,\n",
    "#  que ocurrirá en 2 día(s).'\n",
    "\n",
    "print ('La temperatura máxima esta semana será 14 ºC, que ocurrirá en 1 días(s). El día más frío tendrá una temperatura máxima de 10 ºC, que ocurrirá en 2 día(s)' dias)"
   ]
  },
  {
   "cell_type": "markdown",
   "id": "7ec72bb4",
   "metadata": {},
   "source": [
    "Ejercicios de Tuplas:"
   ]
  },
  {
   "cell_type": "code",
   "execution_count": null,
   "id": "5992b6b2",
   "metadata": {},
   "outputs": [],
   "source": [
    "#Definir tuplas\n",
    "#1.Crea una tupla persona1 para juntar los siguientes datos: 61 kg, 1.54 m altura, pelo marrón, sin usar paréntesis. (Serán del tipo int, float y str.)\n",
    "#2.Crea una tupla para la persona2 de 68 kg, 1.65 m y pelo rubio, usando paréntesis.\n",
    "#3. Crea una lista talla que recompila 'M', 42, y 39.\n",
    "#4.Convertir y juntar\n",
    "#5. Convierte la lista talla a una tupla.\n",
    "#6. Une a la tupla de persona1 los datos en talla, para tener una única tupla.\n",
    "#Indexar tuplas\n",
    "#7. Saca de persona2 el contenido del tercer elemento y llámalo color.\n",
    "#8. ¿Cuántos elementos hay ahora en persona1? (Es decir, ¿cuál es su longitud?)\n",
    "#Desempaquetar\n",
    "#9. Crea las variables peso, altura, color_pelo y llénalas con el contenido de persona1. Imprime color_pelo para comprobar el resultado.\n",
    "#Zipear\n",
    "#10.Crea el zip personas con persona1 y persona2.\n",
    "#11.¿Cuántas \"elementos\" tiene personas? ¿Por qué?\n",
    "#12.Crea una tupla etiquetas con 'peso', 'altura', y 'color_pelo'.\n",
    "#13.Crea al zip de etiquetas, persona1, y persona2, llamado \"todo\".\n",
    "#Manipular zips\n",
    "#14.Ordena las propiedades de la variable personas alfabéticamente. ¿Puedes? ¿Por qué?"
   ]
  }
 ],
 "metadata": {
  "kernelspec": {
   "display_name": "Python 3",
   "language": "python",
   "name": "python3"
  },
  "language_info": {
   "codemirror_mode": {
    "name": "ipython",
    "version": 3
   },
   "file_extension": ".py",
   "mimetype": "text/x-python",
   "name": "python",
   "nbconvert_exporter": "python",
   "pygments_lexer": "ipython3",
   "version": "3.13.7"
  }
 },
 "nbformat": 4,
 "nbformat_minor": 5
}
