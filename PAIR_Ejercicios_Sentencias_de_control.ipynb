{
 "cells": [
  {
   "cell_type": "markdown",
   "id": "f3095929",
   "metadata": {},
   "source": [
    "Sentencias de Control Ejercicios"
   ]
  },
  {
   "cell_type": "code",
   "execution_count": 2,
   "id": "600c5299",
   "metadata": {},
   "outputs": [],
   "source": [
    "var1 = 8\n",
    "var2 = 2\n",
    "var3 = 8"
   ]
  },
  {
   "cell_type": "code",
   "execution_count": 3,
   "id": "94028aca",
   "metadata": {},
   "outputs": [
    {
     "name": "stdout",
     "output_type": "stream",
     "text": [
      "Es enorme!\n"
     ]
    }
   ],
   "source": [
    "if var1 > 6:\n",
    "    print(\"Es enorme!\") "
   ]
  },
  {
   "cell_type": "code",
   "execution_count": 4,
   "id": "d5828d9f",
   "metadata": {},
   "outputs": [
    {
     "name": "stdout",
     "output_type": "stream",
     "text": [
      "No es tan grande\n"
     ]
    }
   ],
   "source": [
    "if var2 > 6:\n",
    "    print(\"Es enorme tambien!\")\n",
    "else:\n",
    "    print(\"No es tan grande\")"
   ]
  },
  {
   "cell_type": "code",
   "execution_count": 5,
   "id": "f08a5246",
   "metadata": {},
   "outputs": [
    {
     "name": "stdout",
     "output_type": "stream",
     "text": [
      "Es enorme!\n",
      "pero de verdad\n"
     ]
    }
   ],
   "source": [
    "if var3 > 6:\n",
    "    print(\"Es enorme!\")\n",
    "    print(\"pero de verdad\")"
   ]
  },
  {
   "cell_type": "code",
   "execution_count": 6,
   "id": "31e251fc",
   "metadata": {},
   "outputs": [
    {
     "name": "stdout",
     "output_type": "stream",
     "text": [
      "Son iguales\n"
     ]
    }
   ],
   "source": [
    "if var1 == var3:\n",
    "    print(\"Son iguales\")"
   ]
  },
  {
   "cell_type": "code",
   "execution_count": 7,
   "id": "969da996",
   "metadata": {},
   "outputs": [
    {
     "name": "stdout",
     "output_type": "stream",
     "text": [
      "No son iguales\n"
     ]
    }
   ],
   "source": [
    "if var1 == var2:\n",
    "    print(\"Son iguales\")\n",
    "else:\n",
    "    print(\"No son iguales\")"
   ]
  },
  {
   "cell_type": "code",
   "execution_count": 8,
   "id": "63457059",
   "metadata": {},
   "outputs": [
    {
     "name": "stdout",
     "output_type": "stream",
     "text": [
      "6\n",
      "la diferencia es 6\n"
     ]
    }
   ],
   "source": [
    "if var1 >= var2:\n",
    "    print(var1 - var2)\n",
    "    dif = var1 - var2\n",
    "    print(\"la diferencia es\", dif)"
   ]
  },
  {
   "cell_type": "code",
   "execution_count": 9,
   "id": "62725449",
   "metadata": {},
   "outputs": [
    {
     "name": "stdout",
     "output_type": "stream",
     "text": [
      "Es enorme!\n"
     ]
    }
   ],
   "source": [
    "if var1 > 6:\n",
    "    print(\"Es enorme!\")\n",
    "else:\n",
    "    print(\"Es chiquitin\")"
   ]
  },
  {
   "cell_type": "code",
   "execution_count": 10,
   "id": "b7cca7ac",
   "metadata": {},
   "outputs": [
    {
     "name": "stdout",
     "output_type": "stream",
     "text": [
      "Es chiquitin tambien\n"
     ]
    }
   ],
   "source": [
    "if var2 > 6:\n",
    "    print(\"Es enorme tambien!\")\n",
    "else:\n",
    "    print(\"Es chiquitin tambien\")"
   ]
  },
  {
   "cell_type": "code",
   "execution_count": 11,
   "id": "3a7391e7",
   "metadata": {},
   "outputs": [
    {
     "name": "stdout",
     "output_type": "stream",
     "text": [
      "Son iguales\n"
     ]
    }
   ],
   "source": [
    "if var1 == var3:\n",
    "    print(\"Son iguales\")\n",
    "else:\n",
    "    print(\"Son distintos\")"
   ]
  },
  {
   "cell_type": "code",
   "execution_count": null,
   "id": "460e1b5b",
   "metadata": {},
   "outputs": [],
   "source": [
    "edad = int(input(\"Que edad tienes?\"))\n",
    "\n",
    "if edad < 4:\n",
    "    print(\"Puedes entrar gratis\")\n",
    "elif edad > 4 and edad <18:\n",
    "    print(\"Tienes que pagar 5€\")\n",
    "else:\n",
    "    print(\"Tienes que pagar 10€\")"
   ]
  },
  {
   "cell_type": "code",
   "execution_count": null,
   "id": "d5553b6e",
   "metadata": {},
   "outputs": [
    {
     "name": "stdout",
     "output_type": "stream",
     "text": [
      "5\n",
      "10\n",
      "15\n",
      "20\n"
     ]
    }
   ],
   "source": [
    "ahorros = 5\n",
    "\n",
    "while ahorros <= 20:\n",
    "    print(ahorros)\n",
    "    ahorros +=5"
   ]
  },
  {
   "cell_type": "code",
   "execution_count": null,
   "id": "cf8443b1",
   "metadata": {},
   "outputs": [],
   "source": [
    "temperatura = int(input(\"Desde que unidades vas a comvertir la temperatura? (1: Celsius, 2: Farenheit)\"))\n",
    "grados = int(input(\"Dime los grados a convertir\"))\n",
    "\n",
    "if temperatura == 1:    \n",
    "    print('La temperatura en Farenheit es '(grados * 9/5) +32)\n",
    "elif temperatura == 2:\n",
    "    print('La temperatura en Celsius es '+(grados - 32) * 5/9)\n",
    "else:\n",
    "    print(\"No has elegido una opcion correcta\")"
   ]
  },
  {
   "cell_type": "markdown",
   "id": "280718f2",
   "metadata": {},
   "source": [
    "EJERCICIO 14"
   ]
  },
  {
   "cell_type": "code",
   "execution_count": 7,
   "id": "d43e6b89",
   "metadata": {},
   "outputs": [
    {
     "name": "stdout",
     "output_type": "stream",
     "text": [
      "Tu tipo impositivo es del 10% los primeros 19850 y luego 12% para el resto. En total: 3443.0\n"
     ]
    }
   ],
   "source": [
    "ingreso_anual = int(input(\"Cual es tu ingreso anual?\"))\n",
    "estado_civil = input(\"Cual es tu estado civil? an1ade S = soltero o C = casado)\")\n",
    "\n",
    "if estado_civil == \"S\":\n",
    "    if ingreso_anual <= 9875:\n",
    "        print(\"Tu tipo impositivo es del 10%\", ingreso_anual * 0.10)\n",
    "    elif ingreso_anual > 9875 and ingreso_anual <= 40125:\n",
    "        print(\"Tu tipo impositivo es del 10% los primeros 9875 y luego 12% para el resto. En total:\", (9875 * 0.10) + ((ingreso_anual - 9875) * 0.12))\n",
    "    else:\n",
    "        print(\"Ganas demasiado, llama a hacienda\")\n",
    "elif estado_civil == \"C\":\n",
    "    if ingreso_anual <= 19850:\n",
    "        print(\"Tu tipo impositivo es del 10%\", ingreso_anual * 0.10)\n",
    "    elif ingreso_anual > 19850 and ingreso_anual <= 80250: \n",
    "        print(\"Tu tipo impositivo es del 10% los primeros 19850 y luego 12% para el resto. En total:\", (19850 * 0.10) + ((ingreso_anual - 19850) * 0.12))\n",
    "    else:\n",
    "        print(\"Ganas demasiado, daselo a tus hijos\")\n",
    "else:\n",
    "    print(\"No has introducido un estado civil correcto. Vuelve a intentarlo con C o S\") "
   ]
  },
  {
   "cell_type": "markdown",
   "id": "7d305bca",
   "metadata": {},
   "source": [
    "EJERCICIO 15"
   ]
  },
  {
   "cell_type": "code",
   "execution_count": 9,
   "id": "fca7f819",
   "metadata": {},
   "outputs": [
    {
     "name": "stdout",
     "output_type": "stream",
     "text": [
      "Calidad del aire 'No saludable para grupos sensibles'. Se recomienda a niños, ancianos y personas con problemas respiratorios que reduzcan su actividad al aire libre\n"
     ]
    }
   ],
   "source": [
    "concentracion_PM2_5 = int(input(\"Cual es la concentracion de PM2.5 en el aire?\"))\n",
    "\n",
    "if concentracion_PM2_5 <= 12:\n",
    "    print(\"Calidad del aire 'Excelente'\")\n",
    "elif concentracion_PM2_5 > 12 and concentracion_PM2_5 <= 35:\n",
    "    print(\"Calidad del aire 'Buena'\")\n",
    "elif concentracion_PM2_5 > 35 and concentracion_PM2_5 <= 55:\n",
    "    print(\"Calidad del aire 'Aceptable'\")\n",
    "elif concentracion_PM2_5 > 55 and concentracion_PM2_5 <= 150:\n",
    "    print(\"Calidad del aire 'No saludable para grupos sensibles'. Se recomienda a niños, ancianos y personas con problemas respiratorios que reduzcan su actividad al aire libre\")\n",
    "elif concentracion_PM2_5 > 150:\n",
    "    print(\"Calidad del aire 'No saludable'. Se recomienda a toda la población que reduzca su actividad al aire libre.\")\n",
    "else:\n",
    "    print(\"No has introducido un valor correcto. Introduce un numero positivo para que la app funcione\")\n",
    "    "
   ]
  }
 ],
 "metadata": {
  "kernelspec": {
   "display_name": "Python 3",
   "language": "python",
   "name": "python3"
  },
  "language_info": {
   "codemirror_mode": {
    "name": "ipython",
    "version": 3
   },
   "file_extension": ".py",
   "mimetype": "text/x-python",
   "name": "python",
   "nbconvert_exporter": "python",
   "pygments_lexer": "ipython3",
   "version": "3.13.7"
  }
 },
 "nbformat": 4,
 "nbformat_minor": 5
}
