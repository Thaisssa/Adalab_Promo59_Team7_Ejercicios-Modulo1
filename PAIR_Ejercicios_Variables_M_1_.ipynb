{
 "cells": [
  {
   "cell_type": "code",
   "execution_count": null,
   "id": "af634174",
   "metadata": {},
   "outputs": [],
   "source": [
    "Ejercicios Variables"
   ]
  },
  {
   "cell_type": "markdown",
   "id": "a79b9a39",
   "metadata": {},
   "source": [
    "#1.    Crea la variable gatos que sea un número con el valor 8.\n"
   ]
  },
  {
   "cell_type": "code",
   "execution_count": 1,
   "id": "2d32bb9a",
   "metadata": {},
   "outputs": [
    {
     "data": {
      "text/plain": [
       "8"
      ]
     },
     "execution_count": 1,
     "metadata": {},
     "output_type": "execute_result"
    }
   ],
   "source": [
    "gatos = 8\n",
    "gatos"
   ]
  },
  {
   "cell_type": "code",
   "execution_count": 2,
   "id": "b28605ab",
   "metadata": {},
   "outputs": [
    {
     "data": {
      "text/plain": [
       "'cuatro'"
      ]
     },
     "execution_count": 2,
     "metadata": {},
     "output_type": "execute_result"
    }
   ],
   "source": [
    "#2.Crea la variable perros que sea un texto de seis caracteres: la palabra cuatro.\n",
    "\n",
    "perros = \"cuatro\"\n",
    "perros\n"
   ]
  },
  {
   "cell_type": "code",
   "execution_count": 3,
   "id": "6028816b",
   "metadata": {},
   "outputs": [
    {
     "data": {
      "text/plain": [
       "8"
      ]
     },
     "execution_count": 3,
     "metadata": {},
     "output_type": "execute_result"
    }
   ],
   "source": [
    "#3. Imprime la variable gatos.\n",
    "gatos"
   ]
  },
  {
   "cell_type": "code",
   "execution_count": 4,
   "id": "26b81582",
   "metadata": {},
   "outputs": [
    {
     "data": {
      "text/plain": [
       "'cuatro'"
      ]
     },
     "execution_count": 4,
     "metadata": {},
     "output_type": "execute_result"
    }
   ],
   "source": [
    "#4. Imprime la variable perros.\n",
    "perros"
   ]
  },
  {
   "cell_type": "code",
   "execution_count": 6,
   "id": "10e905d8",
   "metadata": {},
   "outputs": [
    {
     "name": "stdout",
     "output_type": "stream",
     "text": [
      "cuatrocuatro\n"
     ]
    }
   ],
   "source": [
    "#5. Imprime la variable perros seguida por la palabra más y la palabra perros otra vez.\n",
    "print(perros + perros)"
   ]
  },
  {
   "cell_type": "code",
   "execution_count": 11,
   "id": "a80bb77e",
   "metadata": {},
   "outputs": [
    {
     "ename": "SyntaxError",
     "evalue": "invalid syntax. Perhaps you forgot a comma? (3528308208.py, line 5)",
     "output_type": "error",
     "traceback": [
      "  \u001b[36mCell\u001b[39m\u001b[36m \u001b[39m\u001b[32mIn[11]\u001b[39m\u001b[32m, line 5\u001b[39m\n\u001b[31m    \u001b[39m\u001b[31mprint({perros} y {gatos} e igual a [gatos])\u001b[39m\n          ^\n\u001b[31mSyntaxError\u001b[39m\u001b[31m:\u001b[39m invalid syntax. Perhaps you forgot a comma?\n"
     ]
    }
   ],
   "source": [
    "#6. Consigue que el ordenador devuelva el siguiente texto, \n",
    "# usando la variable perros: cuatro más cuatro es igual a 8.\n",
    "\n",
    "print(f\"{perros} más {perros} es igual a {gatos}\")\n",
    "print({perros} y {gatos} e igual a [gatos])"
   ]
  },
  {
   "cell_type": "code",
   "execution_count": 11,
   "id": "4e47e364",
   "metadata": {},
   "outputs": [
    {
     "data": {
      "text/plain": [
       "2"
      ]
     },
     "execution_count": 11,
     "metadata": {},
     "output_type": "execute_result"
    }
   ],
   "source": [
    "#7- Define una variable pizzas con un valor 2 que sea del tipo float.\n",
    "pizzas = 2\n",
    "pizzas"
   ]
  },
  {
   "cell_type": "code",
   "execution_count": 12,
   "id": "9fe68326",
   "metadata": {},
   "outputs": [
    {
     "data": {
      "text/plain": [
       "0"
      ]
     },
     "execution_count": 12,
     "metadata": {},
     "output_type": "execute_result"
    }
   ],
   "source": [
    "#8. Define postres con un valor 0 que sea del tipo int.\n",
    "postres = 0\n",
    "postres\n"
   ]
  },
  {
   "cell_type": "code",
   "execution_count": 9,
   "id": "768fe318",
   "metadata": {},
   "outputs": [
    {
     "name": "stdout",
     "output_type": "stream",
     "text": [
      "<class 'float'>\n"
     ]
    }
   ],
   "source": [
    "#9- ¿Qué tipo de dato es la variable pizzas?\n",
    "\n",
    "print(type(pizzas))  "
   ]
  },
  {
   "cell_type": "code",
   "execution_count": 8,
   "id": "a42b960f",
   "metadata": {},
   "outputs": [],
   "source": [
    "#10.¿Qué tipo de dato es la variable pizzas?\n",
    "\n",
    "#8.Define una variable pizzas con un valor 2 que sea del tipo float.\n",
    "pizzas = 2.0  # Float\n",
    "\n",
    "\n",
    "#9.Define magdalenas con un valor 2 que sea del tipo string.\n",
    "magdalenas = \"2\"  # String\n"
   ]
  },
  {
   "cell_type": "code",
   "execution_count": null,
   "id": "098767ec",
   "metadata": {},
   "outputs": [],
   "source": [
    "#11.¿Es la variable magdalenas de tipo string?\n"
   ]
  },
  {
   "cell_type": "code",
   "execution_count": 14,
   "id": "a792d64e",
   "metadata": {},
   "outputs": [
    {
     "data": {
      "text/plain": [
       "0"
      ]
     },
     "execution_count": 14,
     "metadata": {},
     "output_type": "execute_result"
    }
   ],
   "source": [
    "#12. Define postres con un valor 0.\n",
    "postres"
   ]
  },
  {
   "cell_type": "code",
   "execution_count": 16,
   "id": "70665164",
   "metadata": {},
   "outputs": [
    {
     "name": "stdout",
     "output_type": "stream",
     "text": [
      "10\n"
     ]
    }
   ],
   "source": [
    "#13. Calcula la suma de gatos y pizzas.\n",
    "print(gatos+pizzas)"
   ]
  },
  {
   "cell_type": "code",
   "execution_count": 17,
   "id": "3755d953",
   "metadata": {},
   "outputs": [
    {
     "name": "stdout",
     "output_type": "stream",
     "text": [
      "6\n"
     ]
    }
   ],
   "source": [
    "#14.Calcula la diferencia entre gatos y pizzas.\n",
    "print(gatos-pizzas)\n"
   ]
  },
  {
   "cell_type": "code",
   "execution_count": 20,
   "id": "7e1cf2ec",
   "metadata": {},
   "outputs": [
    {
     "name": "stdout",
     "output_type": "stream",
     "text": [
      "16\n"
     ]
    }
   ],
   "source": [
    "#15. Multiplica las cantidad de gatos por 2.\n",
    "print(gatos*2)"
   ]
  },
  {
   "cell_type": "code",
   "execution_count": 21,
   "id": "b587c7b8",
   "metadata": {},
   "outputs": [
    {
     "data": {
      "text/plain": [
       "16"
      ]
     },
     "execution_count": 21,
     "metadata": {},
     "output_type": "execute_result"
    }
   ],
   "source": [
    "#16. Crea una variable piezas que sea 8 veces la cantidad de pizzas.\n",
    "piezzas = pizzas*8\n",
    "piezzas\n"
   ]
  },
  {
   "cell_type": "code",
   "execution_count": 15,
   "id": "cbb70a19",
   "metadata": {},
   "outputs": [
    {
     "name": "stdout",
     "output_type": "stream",
     "text": [
      "8\n",
      "cuatro\n",
      "cuatro más cuatro\n",
      "cuatro más cuatro es igual a 8\n",
      "cuatro + cuatro = 8\n",
      "<class 'float'>\n",
      "<class 'str'>\n",
      "10.0\n",
      "6.0\n",
      "16\n"
     ]
    }
   ],
   "source": [
    "\n",
    "\n",
    "#1.Crea la variable gatos que sea un número con el valor 8.\n",
    "gatos = 8\n",
    "\n",
    "#2.Crea la variable perros que sea un texto de seis caracteres: la palabra cuatro.\n",
    "perros = \"cuatro\"\n",
    "\n",
    "#3.Imprime la variable gatos.\n",
    "print(gatos)\n",
    "\n",
    "#4.Imprime la variable perros.\n",
    "print(perros)\n",
    "#5.Imprime la variable perros seguida por la palabra más y la palabra perros otra vez.\n",
    "print(perros + \" más \" + perros)\n",
    "\n",
    "#6.Consigue que el ordenador devuelva el siguiente texto, usando la variable perros: cuatro más cuatro es igual a 8.\n",
    "print(f\"{perros} más {perros} es igual a {gatos}\")\n",
    "\n",
    "#7.Consigue que el ordenador devuelva el siguiente texto, usando la variableperros: cuatro + cuatro = 8.\n",
    "print(f\"{perros} + {perros} = {gatos}\")\n",
    "\n",
    "#8.Define una variable pizzas con un valor 2 que sea del tipo float.\n",
    "pizzas = 2.0  # Float\n",
    "\n",
    "\n",
    "#9.Define magdalenas con un valor 2 que sea del tipo string.\n",
    "magdalenas = \"2\"  # String\n",
    "\n",
    "\n",
    "#10.Define postres con un valor 0 que sea del tipo int.\n",
    "postres = 0  # Integer\n",
    "\n",
    "#11. ¿Qué tipo de dato es la variable pizzas?\n",
    "\n",
    "print(type(pizzas))  \n",
    "\n",
    "#12. ¿Es la variable magdalenas de tipo string?\n",
    "\n",
    "print(type(magdalenas))\n",
    "\n",
    "#13. Define postres con un valor 0.\n",
    "\n",
    "postres = 0\n",
    "\n",
    "\n",
    "#14. Calcula la suma de gatos y pizzas.\n",
    "\n",
    "print(gatos + pizzas)  # Suma\n",
    "\n",
    "\n",
    "#15. Calcula la diferencia entre gatos y pizzas.\n",
    "\n",
    "print(gatos - pizzas)  # Diferencia\n",
    "\n",
    "\n",
    "#16. Multiplica las cantidad de gatos por 2.\n",
    "\n",
    "print(gatos * 2)  # Multiplicación\n",
    "\n",
    "\n",
    "#17.Crea una variable piezas que sea 8 veces la cantidad de pizzas.\n",
    "\n",
    "piezas = 8 * pizzas"
   ]
  },
  {
   "cell_type": "code",
   "execution_count": 17,
   "id": "f5362720",
   "metadata": {},
   "outputs": [],
   "source": [
    "#18. Haz que la cantidad de piezas se aumente en 3.\n",
    "\n",
    "piezas += 3"
   ]
  },
  {
   "cell_type": "code",
   "execution_count": 23,
   "id": "48a42acb",
   "metadata": {},
   "outputs": [
    {
     "data": {
      "text/plain": [
       "81"
      ]
     },
     "execution_count": 23,
     "metadata": {},
     "output_type": "execute_result"
    }
   ],
   "source": [
    "#18. Calcula el cuadrado de 9 y guárdalo en una variable llamada superfice.\n",
    "\n",
    "superfice = 9*9\n",
    "superfice\n"
   ]
  },
  {
   "cell_type": "code",
   "execution_count": 26,
   "id": "88d298ab",
   "metadata": {},
   "outputs": [
    {
     "ename": "NameError",
     "evalue": "name 'superficie' is not defined",
     "output_type": "error",
     "traceback": [
      "\u001b[31m---------------------------------------------------------------------------\u001b[39m",
      "\u001b[31mNameError\u001b[39m                                 Traceback (most recent call last)",
      "\u001b[36mCell\u001b[39m\u001b[36m \u001b[39m\u001b[32mIn[26]\u001b[39m\u001b[32m, line 3\u001b[39m\n\u001b[32m      1\u001b[39m \u001b[38;5;66;03m#19- ¿Cuánta superficie hay por gato?\u001b[39;00m\n\u001b[32m----> \u001b[39m\u001b[32m3\u001b[39m \u001b[38;5;28mprint\u001b[39m(\u001b[43msuperficie\u001b[49m/gatos)\n",
      "\u001b[31mNameError\u001b[39m: name 'superficie' is not defined"
     ]
    }
   ],
   "source": [
    "#19- ¿Cuánta superficie hay por gato?\n",
    "\n",
    "print(superficie/gatos)"
   ]
  },
  {
   "cell_type": "code",
   "execution_count": 24,
   "id": "a9522ce0",
   "metadata": {},
   "outputs": [
    {
     "ename": "NameError",
     "evalue": "name 'gatps' is not defined",
     "output_type": "error",
     "traceback": [
      "\u001b[31m---------------------------------------------------------------------------\u001b[39m",
      "\u001b[31mNameError\u001b[39m                                 Traceback (most recent call last)",
      "\u001b[36mCell\u001b[39m\u001b[36m \u001b[39m\u001b[32mIn[24]\u001b[39m\u001b[32m, line 3\u001b[39m\n\u001b[32m      1\u001b[39m \u001b[38;5;66;03m#20. ¿Cuántas piezas enteras hay por gato?\u001b[39;00m\n\u001b[32m----> \u001b[39m\u001b[32m3\u001b[39m \u001b[38;5;28mprint\u001b[39m(piezas/\u001b[43mgatps\u001b[49m)\n",
      "\u001b[31mNameError\u001b[39m: name 'gatps' is not defined"
     ]
    }
   ],
   "source": [
    "#20. ¿Cuántas piezas enteras hay por gato?\n",
    "\n",
    "print(piezas/gatps)\n"
   ]
  },
  {
   "cell_type": "code",
   "execution_count": 28,
   "id": "69222cdb",
   "metadata": {},
   "outputs": [
    {
     "name": "stdout",
     "output_type": "stream",
     "text": [
      "16\n",
      "8\n"
     ]
    }
   ],
   "source": [
    "#21- ¿Cuántas piezas te quedan si cada gato se come 21 piezas?\n",
    "print(piezzas)\n",
    "print(gatos)"
   ]
  },
  {
   "cell_type": "code",
   "execution_count": 29,
   "id": "91ac3588",
   "metadata": {},
   "outputs": [
    {
     "ename": "NameError",
     "evalue": "name 'superficie' is not defined",
     "output_type": "error",
     "traceback": [
      "\u001b[31m---------------------------------------------------------------------------\u001b[39m",
      "\u001b[31mNameError\u001b[39m                                 Traceback (most recent call last)",
      "\u001b[36mCell\u001b[39m\u001b[36m \u001b[39m\u001b[32mIn[29]\u001b[39m\u001b[32m, line 4\u001b[39m\n\u001b[32m      1\u001b[39m \u001b[38;5;66;03m#22.¿Cuánta superficie hay por gato en metros cuadrados? Redondeala a un sólo decimal. \u001b[39;00m\n\u001b[32m      2\u001b[39m \u001b[38;5;66;03m# Intenta calcularlo dentro del mismo print() en una sola línea.\u001b[39;00m\n\u001b[32m----> \u001b[39m\u001b[32m4\u001b[39m \u001b[38;5;28mprint\u001b[39m(\u001b[38;5;28mround\u001b[39m(\u001b[43msuperficie\u001b[49m/gatos, \u001b[32m1\u001b[39m))\n",
      "\u001b[31mNameError\u001b[39m: name 'superficie' is not defined"
     ]
    }
   ],
   "source": [
    "#22.¿Cuánta superficie hay por gato en metros cuadrados? Redondeala a un sólo decimal. \n",
    "# Intenta calcularlo dentro del mismo print() en una sola línea.\n",
    "\n",
    "print(round(superficie/gatos, 1))"
   ]
  },
  {
   "cell_type": "code",
   "execution_count": 31,
   "id": "d6934bd7",
   "metadata": {},
   "outputs": [
    {
     "data": {
      "text/plain": [
       "True"
      ]
     },
     "execution_count": 31,
     "metadata": {},
     "output_type": "execute_result"
    }
   ],
   "source": [
    "#23. ¿Es verdad que hay más gatos que pizzas?\n",
    "gatos > pizzas\n",
    "\n"
   ]
  },
  {
   "cell_type": "code",
   "execution_count": 33,
   "id": "58034b52",
   "metadata": {},
   "outputs": [
    {
     "data": {
      "text/plain": [
       "0.5"
      ]
     },
     "execution_count": 33,
     "metadata": {},
     "output_type": "execute_result"
    }
   ],
   "source": [
    "#24. ¿Es verdad que hay menos gatos que superficie?\n",
    "# ¿Es verdad que 2 veces la cantidad de pizzas es distinto de la cantidad de gatos?\n",
    "gatos < superfice\n",
    "2*pizzas /gatos\n"
   ]
  },
  {
   "cell_type": "code",
   "execution_count": 34,
   "id": "d16b229b",
   "metadata": {},
   "outputs": [
    {
     "data": {
      "text/plain": [
       "False"
      ]
     },
     "execution_count": 34,
     "metadata": {},
     "output_type": "execute_result"
    }
   ],
   "source": [
    "#25. ¿Es falso que 2 veces la cantidad de pizzas es igual a la cantidad de gatos?\n",
    "2*gatos == pizzas"
   ]
  },
  {
   "cell_type": "code",
   "execution_count": 35,
   "id": "280e4847",
   "metadata": {},
   "outputs": [
    {
     "data": {
      "text/plain": [
       "False"
      ]
     },
     "execution_count": 35,
     "metadata": {},
     "output_type": "execute_result"
    }
   ],
   "source": [
    "#26. La variable piezas, es mayor o igual a pizzas y superficie es distinto de cero?\n",
    "piezzas < pizzas or piezzas == pizzas"
   ]
  },
  {
   "cell_type": "code",
   "execution_count": 37,
   "id": "30b7f09e",
   "metadata": {},
   "outputs": [
    {
     "data": {
      "text/plain": [
       "False"
      ]
     },
     "execution_count": 37,
     "metadata": {},
     "output_type": "execute_result"
    }
   ],
   "source": [
    "#27. La variable piezas, es mayor o igual a pizzas y menor que superficie?\n",
    "piezzas < pizzas or piezzas == pizzas and pizzas < superfice"
   ]
  },
  {
   "cell_type": "code",
   "execution_count": 39,
   "id": "e91f5ceb",
   "metadata": {},
   "outputs": [
    {
     "name": "stdout",
     "output_type": "stream",
     "text": [
      "-6\n"
     ]
    },
    {
     "data": {
      "text/plain": [
       "False"
      ]
     },
     "execution_count": 39,
     "metadata": {},
     "output_type": "execute_result"
    }
   ],
   "source": [
    "#28.Me interesa saber si hay más pizzas que gatos, o si el residuo de piezas por gato es cero.\n",
    "print(pizzas-gatos)\n",
    "pizzas > gatos\n"
   ]
  },
  {
   "cell_type": "code",
   "execution_count": null,
   "id": "72f0c2c3",
   "metadata": {},
   "outputs": [
    {
     "ename": "NameError",
     "evalue": "name 'superficie' is not defined",
     "output_type": "error",
     "traceback": [
      "\u001b[31m---------------------------------------------------------------------------\u001b[39m",
      "\u001b[31mNameError\u001b[39m                                 Traceback (most recent call last)",
      "\u001b[36mCell\u001b[39m\u001b[36m \u001b[39m\u001b[32mIn[33]\u001b[39m\u001b[32m, line 3\u001b[39m\n\u001b[32m      1\u001b[39m \u001b[38;5;66;03m#29. Comprueba las comparaciones de 29. en una sola línea, sin usar la variable piezas más que una sola vez.\u001b[39;00m\n\u001b[32m----> \u001b[39m\u001b[32m3\u001b[39m \u001b[38;5;28mprint\u001b[39m(pizzas<= piezas < \u001b[43msuperficie\u001b[49m)\n",
      "\u001b[31mNameError\u001b[39m: name 'superficie' is not defined"
     ]
    }
   ],
   "source": [
    "#29. Comprueba las comparaciones de 29. en una sola línea, sin usar la variable piezas más que una sola vez.\n",
    "\n",
    "print(pizzas<= piezas < superficie)"
   ]
  },
  {
   "cell_type": "code",
   "execution_count": 43,
   "id": "e541b46f",
   "metadata": {},
   "outputs": [
    {
     "data": {
      "text/plain": [
       "True"
      ]
     },
     "execution_count": 43,
     "metadata": {},
     "output_type": "execute_result"
    }
   ],
   "source": [
    "#30. Comprueba si superficie es diferente a cero sin usar !=.\n",
    "superfice == 0\n",
    "superfice > 0\n"
   ]
  },
  {
   "cell_type": "code",
   "execution_count": 1,
   "id": "9dfd22b9",
   "metadata": {},
   "outputs": [
    {
     "ename": "NameError",
     "evalue": "name 'superficie' is not defined",
     "output_type": "error",
     "traceback": [
      "\u001b[31m---------------------------------------------------------------------------\u001b[39m",
      "\u001b[31mNameError\u001b[39m                                 Traceback (most recent call last)",
      "\u001b[36mCell\u001b[39m\u001b[36m \u001b[39m\u001b[32mIn[1]\u001b[39m\u001b[32m, line 3\u001b[39m\n\u001b[32m      1\u001b[39m \u001b[38;5;66;03m#32. Comprueba si superficie es diferente a cero sin usar !=.\u001b[39;00m\n\u001b[32m----> \u001b[39m\u001b[32m3\u001b[39m \u001b[38;5;28mprint\u001b[39m(\u001b[38;5;28mbool\u001b[39m(\u001b[43msuperficie\u001b[49m))\n",
      "\u001b[31mNameError\u001b[39m: name 'superficie' is not defined"
     ]
    }
   ],
   "source": [
    "#32. Comprueba si superficie es diferente a cero sin usar !=.\n",
    "\n",
    "print(bool(superficie))"
   ]
  },
  {
   "cell_type": "code",
   "execution_count": null,
   "id": "a192512e",
   "metadata": {},
   "outputs": [],
   "source": [
    "#33. Usa input() para preguntar a un usuario el día de su cumpleaños y guarda la respuesta en la variable dia_cumple.\n",
    "\n",
    "dia_cumple = input(\"Introduce el día de tu cumpleaños (en número)\") "
   ]
  },
  {
   "cell_type": "code",
   "execution_count": null,
   "id": "24a85cd6",
   "metadata": {},
   "outputs": [],
   "source": [
    "#33. Usa input() para preguntar a un usuario el día de su cumpleaños y guarda la respuesta en la variable dia_cumple.\n",
    "\n",
    "dia_cumple = input(\"Introduce el día de tu cumpleaños (en número)\") #Aquí no lo convertimos en número porque vamos a usarlo como texto"
   ]
  },
  {
   "cell_type": "code",
   "execution_count": 4,
   "id": "85f5b738",
   "metadata": {},
   "outputs": [],
   "source": [
    "#34. Usa input() para preguntar a un usuario el mes de su cumpleaños y guarda la respuesta en la variable mes_cumple.\n",
    "\n",
    "mes_cumple = input(\"Introduce tu mes de cumpleaños: \")"
   ]
  },
  {
   "cell_type": "code",
   "execution_count": 2,
   "id": "0c11673b",
   "metadata": {},
   "outputs": [],
   "source": [
    "#35. Usa .strip() en ambas de las variables definidas.\n",
    "\n",
    "mes_cumple = input(\"Introduce tu mes de cumpleaños: \").strip() "
   ]
  },
  {
   "cell_type": "code",
   "execution_count": 3,
   "id": "ac80b7bf",
   "metadata": {},
   "outputs": [],
   "source": [
    "#35. Usa .strip() en ambas de las variables definidas.\n",
    "\n",
    "mes_cumple = input(\"Introduce tu mes de cumpleaños: \").strip() "
   ]
  },
  {
   "cell_type": "code",
   "execution_count": null,
   "id": "d4806b53",
   "metadata": {},
   "outputs": [],
   "source": [
    "#36. Haz que fecha_cumple sea un string compuesto por el día y el mes.\n",
    "\n",
    "fecha_cumple = dia_cumple + \" \" + mes_cumple"
   ]
  },
  {
   "cell_type": "code",
   "execution_count": null,
   "id": "fa97b9f0",
   "metadata": {},
   "outputs": [],
   "source": [
    "#37. Imprime Fecha de cumpleaños es más el día y el mes.\n",
    "\n",
    "print(\"Fecha de cumpleaños es \" + fecha_cumple)"
   ]
  },
  {
   "cell_type": "code",
   "execution_count": null,
   "id": "9692dbc3",
   "metadata": {},
   "outputs": [],
   "source": [
    "#37. Imprime la variable perros en todas mayúsculas.\n",
    "\n",
    "print(perros.upper())"
   ]
  }
 ],
 "metadata": {
  "kernelspec": {
   "display_name": "Python 3",
   "language": "python",
   "name": "python3"
  },
  "language_info": {
   "codemirror_mode": {
    "name": "ipython",
    "version": 3
   },
   "file_extension": ".py",
   "mimetype": "text/x-python",
   "name": "python",
   "nbconvert_exporter": "python",
   "pygments_lexer": "ipython3",
   "version": "3.13.7"
  }
 },
 "nbformat": 4,
 "nbformat_minor": 5
}
