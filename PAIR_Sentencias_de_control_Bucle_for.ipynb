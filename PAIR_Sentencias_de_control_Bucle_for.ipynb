{
 "cells": [
  {
   "cell_type": "markdown",
   "id": "5b8c7a22",
   "metadata": {},
   "source": [
    "SENTENCIAS DE CONTROL BUCLE FOR"
   ]
  },
  {
   "cell_type": "code",
   "execution_count": 4,
   "id": "c136a7aa",
   "metadata": {},
   "outputs": [
    {
     "name": "stdout",
     "output_type": "stream",
     "text": [
      "[2, 1]\n",
      "[12]\n",
      "[45, 67, 23, 45, 66, 34, 67, 99, 98, 67, 64, 44, 100]\n"
     ]
    }
   ],
   "source": [
    "#1. Crea tres listas nuevas, donde:\n",
    "# En la primera tengamos temperaturas entre 0 - 10, llama a la nueva lista bajas_temp.\n",
    "# En la segunda tengamos temperaturas entre 11- 20, llama a la nueva lista medias_temp.\n",
    "# En la tercera tengamos temperaturas por encima de 20, llama a la nueva lista altas_temp\n",
    "\n",
    "temperaturas = [2,45,67,23, 45,66,12,1,34,67,99,98,67,64, 44, 100]\n",
    "bajas_temp = []\n",
    "medias_temp = []\n",
    "altas_temp = []\n",
    "\n",
    "for i in temperaturas:\n",
    "    if i < 10:\n",
    "      bajas_temp.append(i)\n",
    "print(bajas_temp)\n",
    "\n",
    "for i in temperaturas:\n",
    "    if i > 10 and i <= 20:\n",
    "      medias_temp.append(i)\n",
    "print(medias_temp)\n",
    "\n",
    "for i in temperaturas:\n",
    "    if i > 20:\n",
    "      altas_temp.append(i)\n",
    "print(altas_temp)"
   ]
  },
  {
   "cell_type": "code",
<<<<<<< HEAD
   "execution_count": 3,
=======
   "execution_count": 5,
>>>>>>> 8492d0f (sentencias de control y bucles update)
   "id": "4b2c50ad",
   "metadata": {},
   "outputs": [
    {
     "ename": "NameError",
     "evalue": "name 'bajas_temp' is not defined",
     "output_type": "error",
     "traceback": [
      "\u001b[31m---------------------------------------------------------------------------\u001b[39m",
      "\u001b[31mNameError\u001b[39m                                 Traceback (most recent call last)",
<<<<<<< HEAD
      "\u001b[36mCell\u001b[39m\u001b[36m \u001b[39m\u001b[32mIn[3]\u001b[39m\u001b[32m, line 6\u001b[39m\n\u001b[32m      3\u001b[39m farenheit_medias_temp = []\n\u001b[32m      4\u001b[39m farenheit_altas_temp = []\n\u001b[32m----> \u001b[39m\u001b[32m6\u001b[39m \u001b[38;5;28;01mfor\u001b[39;00m i \u001b[38;5;129;01min\u001b[39;00m \u001b[43mbajas_temp\u001b[49m:\n\u001b[32m      7\u001b[39m     i = i * \u001b[32m9\u001b[39m/\u001b[32m5\u001b[39m + \u001b[32m32\u001b[39m\n\u001b[32m      8\u001b[39m     farenheit_bajas_temp.append(i)\n",
      "\u001b[31mNameError\u001b[39m: name 'bajas_temp' is not defined"
=======
      "\u001b[36mCell\u001b[39m\u001b[36m \u001b[39m\u001b[32mIn[5]\u001b[39m\u001b[32m, line 14\u001b[39m\n\u001b[32m     11\u001b[39m     i = i * \u001b[32m9\u001b[39m/\u001b[32m5\u001b[39m + \u001b[32m32\u001b[39m\n\u001b[32m     12\u001b[39m     farenheit_medias_temp.append(i)\n\u001b[32m---> \u001b[39m\u001b[32m14\u001b[39m \u001b[38;5;28;01mfor\u001b[39;00m i \u001b[38;5;129;01min\u001b[39;00m \u001b[43maltlas_temp\u001b[49m:\n\u001b[32m     15\u001b[39m     i = i * \u001b[32m9\u001b[39m/\u001b[32m5\u001b[39m + \u001b[32m32\u001b[39m\n\u001b[32m     16\u001b[39m     farenheit_altas_temp.append(i)\n",
      "\u001b[31mNameError\u001b[39m: name 'altlas_temp' is not defined"
>>>>>>> 8492d0f (sentencias de control y bucles update)
     ]
    }
   ],
   "source": [
    "#2.\n",
    "farenheit_bajas_temp = []\n",
    "farenheit_medias_temp = []\n",
    "farenheit_altas_temp = []\n",
    "\n",
    "for i in bajas_temp:\n",
    "    i = i * 9/5 + 32\n",
    "    farenheit_bajas_temp.append(i)\n",
    "\n",
    "for i in medias_temp:\n",
    "    i = i * 9/5 + 32\n",
    "    farenheit_medias_temp.append(i)\n",
    "\n",
    "for i in altlas_temp:\n",
    "    i = i * 9/5 + 32\n",
    "    farenheit_altas_temp.append(i)\n",
    "    \n",
    "print(farenheit_bajas_temp)\n",
    "print(farenheit_medias_temp)\n",
    "print(farenheit_altas_temp)\n"
   ]
  },
  {
   "cell_type": "code",
   "execution_count": 2,
   "id": "d85850e1",
   "metadata": {},
   "outputs": [
    {
     "name": "stdout",
     "output_type": "stream",
     "text": [
      "0\n",
      "1\n",
      "2\n",
      "3\n",
      "4\n",
      "5\n"
     ]
    }
   ],
   "source": [
    "#3 6 excluido\n",
    "for i in range(0,6):\n",
    "    print(i)"
   ]
  },
  {
   "cell_type": "code",
   "execution_count": null,
   "id": "3f536dd2",
   "metadata": {},
   "outputs": [
    {
     "name": "stdout",
     "output_type": "stream",
     "text": [
      "2\n",
      "3\n",
      "4\n",
      "5\n",
      "6\n"
     ]
    }
   ],
   "source": [
    "#4\n",
    "for i in range(2,7):\n",
    "    print(i)"
   ]
  },
  {
   "cell_type": "code",
   "execution_count": null,
   "id": "d0e99390",
   "metadata": {},
   "outputs": [
    {
     "name": "stdout",
     "output_type": "stream",
     "text": [
      "5\n",
      "6\n",
      "7\n",
      "8\n"
     ]
    }
   ],
   "source": [
    "#5\n",
    "for i in range(6,9):\n",
    "     print(i)"
   ]
  },
  {
   "cell_type": "code",
   "execution_count": 4,
   "id": "b11b1ae9",
   "metadata": {},
   "outputs": [
    {
     "name": "stdout",
     "output_type": "stream",
     "text": [
      "2\n",
      "3\n",
      "4\n"
     ]
    }
   ],
   "source": [
    "#6 Rango de 3 numeros que empiece en 2\n",
    "for i in range(2,5):\n",
    "    print(i)"
   ]
  },
  {
   "cell_type": "code",
   "execution_count": 5,
   "id": "35fccd96",
   "metadata": {},
   "outputs": [
    {
     "name": "stdout",
     "output_type": "stream",
     "text": [
      "2\n",
      "5\n",
      "8\n",
      "11\n"
     ]
    }
   ],
   "source": [
    "#7 empiece en 2 aumentando cada paso por tres y que pare antes que 13\n",
    "for i in range(2,13,3):\n",
    "    print(i)"
   ]
  },
  {
   "cell_type": "code",
   "execution_count": 6,
   "id": "8037c860",
   "metadata": {},
   "outputs": [
    {
     "name": "stdout",
     "output_type": "stream",
     "text": [
      "1\n",
      "3\n",
      "5\n",
      "7\n",
      "9\n"
     ]
    }
   ],
   "source": [
    "#8\n",
    "for i  in range(1,10,2):\n",
    "    print(i)"
   ]
  },
  {
   "cell_type": "code",
   "execution_count": 1,
   "id": "ee720fbf",
   "metadata": {},
   "outputs": [
    {
     "name": "stdout",
     "output_type": "stream",
     "text": [
      "[4, 2025, 4489, 529, 2025, 4356, 144, 1, 1156, 4489, 9801, 9604, 4489, 4096, 1936, 10000]\n"
     ]
    }
   ],
   "source": [
    "#9 \n",
    "temperaturas = [2,45,67,23, 45,66,12,1,34,67,99,98,67,64, 44, 100]\n",
    "temperaturas_al_cuadrado = []\n",
    "for i in temperaturas:\n",
    "    temperaturas_al_cuadrado.append(i **2)\n",
    "    \n",
    "print(temperaturas_al_cuadrado)"
   ]
  },
  {
   "cell_type": "code",
<<<<<<< HEAD
   "execution_count": 8,
=======
   "execution_count": 2,
>>>>>>> 8492d0f (sentencias de control y bucles update)
   "id": "0a471053",
   "metadata": {},
   "outputs": [
    {
<<<<<<< HEAD
     "ename": "NameError",
     "evalue": "name 'temperaturas_al_cuadrado' is not defined",
     "output_type": "error",
     "traceback": [
      "\u001b[31m---------------------------------------------------------------------------\u001b[39m",
      "\u001b[31mNameError\u001b[39m                                 Traceback (most recent call last)",
      "\u001b[36mCell\u001b[39m\u001b[36m \u001b[39m\u001b[32mIn[8]\u001b[39m\u001b[32m, line 3\u001b[39m\n\u001b[32m      1\u001b[39m \u001b[38;5;66;03m#10\u001b[39;00m\n\u001b[32m      2\u001b[39m resto_entre2 = []\n\u001b[32m----> \u001b[39m\u001b[32m3\u001b[39m \u001b[38;5;28;01mfor\u001b[39;00m i \u001b[38;5;129;01min\u001b[39;00m \u001b[43mtemperaturas_al_cuadrado\u001b[49m:\n\u001b[32m      4\u001b[39m     resto_entre2.append(i %\u001b[32m2\u001b[39m)\n\u001b[32m      5\u001b[39m \u001b[38;5;28mprint\u001b[39m(resto_entre2)\n",
      "\u001b[31mNameError\u001b[39m: name 'temperaturas_al_cuadrado' is not defined"
=======
     "name": "stdout",
     "output_type": "stream",
     "text": [
      "[0, 1, 1, 1, 1, 0, 0, 1, 0, 1, 1, 0, 1, 0, 0, 0]\n"
>>>>>>> 8492d0f (sentencias de control y bucles update)
     ]
    }
   ],
   "source": [
    "#10\n",
    "resto_entre2 = []\n",
    "for i in temperaturas_al_cuadrado:\n",
    "    resto_entre2.append(i %2)\n",
    "print(resto_entre2)"
   ]
  },
  {
   "cell_type": "code",
<<<<<<< HEAD
   "execution_count": 15,
   "id": "44835bdf",
=======
   "execution_count": null,
   "id": "90d0dc3f",
   "metadata": {},
   "outputs": [],
   "source": [
    "#11"
   ]
  },
  {
   "cell_type": "code",
   "execution_count": null,
   "id": "66cb4721",
   "metadata": {},
   "outputs": [],
   "source": [
    "#12"
   ]
  },
  {
   "cell_type": "code",
   "execution_count": null,
   "id": "b99c7719",
   "metadata": {},
   "outputs": [],
   "source": [
    "#13"
   ]
  },
  {
   "cell_type": "code",
   "execution_count": 2,
   "id": "733ce224",
>>>>>>> 8492d0f (sentencias de control y bucles update)
   "metadata": {},
   "outputs": [
    {
     "name": "stdout",
     "output_type": "stream",
     "text": [
<<<<<<< HEAD
      "[20, 18, 12]\n"
=======
      "PythonPythonPythonPythonPythonPython is fun\n"
>>>>>>> 8492d0f (sentencias de control y bucles update)
     ]
    }
   ],
   "source": [
<<<<<<< HEAD
    "# 11.Crea una lista nueva donde tengamos solo los elementos pares de la lista temperaturas.\n",
    "\n",
    "pares = []  # lista vacía para guardar los pares\n",
    "\n",
    "for t in temperaturas:\n",
    "    if t % 2 == 0:     # si es par\n",
    "        pares.append(t)  # lo añadimos a la nueva lista\n",
    "\n",
    "print(pares)\n"
   ]
  },
  {
   "cell_type": "code",
   "execution_count": 26,
   "id": "d284d3cb",
   "metadata": {},
   "outputs": [
    {
     "name": "stdout",
     "output_type": "stream",
     "text": [
      "[15, 20, 23, 18, 12, 27]\n"
     ]
    }
   ],
   "source": [
    "# 12. Crea una lista nueva donde tengamos solo los elementos que sean menores que 50.\n",
    "\n",
    "\n",
    "menor_50 = []  # lista vacía para guardar las temperaturas menores o iguales a 50\n",
    "\n",
    "for t in temperaturas:\n",
    "    if t <= 50:          # si es menor o igual que 50\n",
    "        menor_50.append(t)  # lo agregamos a la lista\n",
    "\n",
    "print(menor_50)\n"
   ]
  },
  {
   "cell_type": "code",
   "execution_count": 27,
   "id": "5e57123b",
   "metadata": {},
   "outputs": [
    {
     "name": "stdout",
     "output_type": "stream",
     "text": [
      "['impar', 'par', 'impar', 'par', 'par', 'impar']\n",
      "[]\n"
     ]
    }
   ],
   "source": [
    "#13. Crea una lista donde tengamos los valores \"par\" e \"impar\" en función de los valores de la lista\n",
    "#  original. La lista resultante tiene que ser como la que indicamos a continuación:\n",
    "\n",
    "par = []\n",
    "impar = []\n",
    "\n",
    "for t in temperaturas:\n",
    "    if t % 2 == 0:\n",
    "        par.append(\"par\")\n",
    "    else:\n",
    "        par.append(\"impar\")\n",
    "\n",
    "print(par)\n",
    "print(impar)"
   ]
  },
  {
   "cell_type": "code",
   "execution_count": 28,
   "id": "1a445bdc",
   "metadata": {},
   "outputs": [
    {
     "name": "stdout",
     "output_type": "stream",
     "text": [
      "[0, 1, 1, 1, 1, 0, 0, 1, 0, 1, 1, 0, 1, 0, 0, 0]\n"
     ]
    }
   ],
   "source": [
    "# 14. lista_strings = [\"par\",\"impar\",\"impar\",\"impar\", \"impar\",\"par\",\"par\",\"impar\",\"par\",\"impar\",\n",
    "# \"impar\",\"par\",\"impar\",\"par\", \"par\", \"par\"]\n",
    "\n",
    "lista_strings = [\n",
    "    \"par\", \"impar\", \"impar\", \"impar\", \"impar\",\n",
    "    \"par\", \"par\", \"impar\", \"par\", \"impar\",\n",
    "    \"impar\", \"par\", \"impar\", \"par\", \"par\", \"par\"\n",
    "]\n",
    "\n",
    "valores = []  # lista vacía para guardar números\n",
    "\n",
    "for palabra in lista_strings:\n",
    "    if palabra == \"par\":\n",
    "        valores.append(0)   # podríamos usar cualquier número par\n",
    "    else:\n",
    "        valores.append(1)   # y este para los impares\n",
    "\n",
    "print(valores)"
   ]
  },
  {
   "cell_type": "code",
   "execution_count": 33,
   "id": "c8b89c9a",
   "metadata": {},
   "outputs": [],
   "source": [
    "# 15. Pide al usuario un número entero positivo y suma los números pares e impares por \n",
    "# separado hasta ese número.\n",
    "\n",
    "# Pedimos un número entero positivo al usuario\n",
    "n = int(input(\"Introduce un número entero positivo: \"))\n",
    "\n",
    "# Inicializamos las sumas\n",
    "suma_pares = 0\n",
    "suma_impares = 0\n",
    "\n",
    "# Recorremos todos los números desde 1 hasta n (inclusive)\n",
    "\n",
    "for i in range(1, n + 1):\n",
    "    if i % 2 == 0:        # si el número es par\n",
    "        suma_pares += i\n",
    "    else:                 # si es impar\n",
    "        suma_impares += i"
=======
    "#14 \n",
    "print('Python' * 6 + ' is fun')                                     "
>>>>>>> 8492d0f (sentencias de control y bucles update)
   ]
  },
  {
   "cell_type": "code",
   "execution_count": null,
<<<<<<< HEAD
   "id": "aceba5c9",
   "metadata": {},
   "outputs": [],
   "source": [
    "# Mostramos los resultados\n",
    "\n",
    "print(\"Suma de pares:\", suma_pares)\n",
    "print(\"Suma de impares:\", suma_impares"
   ]
  },
  {
   "cell_type": "code",
   "execution_count": null,
   "id": "026772d9",
   "metadata": {},
   "outputs": [],
   "source": [
    "\n",
    "# 16- Pide al usuario ingresar una \n",
    "# cadena y cuenta cuántas veces aparece cada vocal (a, e, i, o, u) en la cadena."
   ]
  },
  {
   "cell_type": "code",
   "execution_count": null,
   "id": "76e5dd8a",
   "metadata": {},
   "outputs": [],
   "source": [
    "#EJERCICIOS\n",
    "#1.Crea una variable que sea igual a \"Python\" y genera un código que nos printee todas las \n",
    "# letras menos la \"P\" usando la sentencia continue.\n",
    "\n",
    "palabra = \"Python\"\n",
    "\n",
    "for letra in palabra:\n",
    "    if letra == \"P\":\n",
    "        continue      # salta esta iteración (no imprime la P)\n",
    "    print(letra)"
   ]
  },
  {
   "cell_type": "code",
   "execution_count": 34,
   "id": "2ab12d8d",
   "metadata": {},
   "outputs": [
    {
     "ename": "IndentationError",
     "evalue": "expected an indented block after 'if' statement on line 5 (3156711090.py, line 7)",
     "output_type": "error",
     "traceback": [
      "  \u001b[36mCell\u001b[39m\u001b[36m \u001b[39m\u001b[32mIn[34]\u001b[39m\u001b[32m, line 7\u001b[39m\n\u001b[31m    \u001b[39m\u001b[31mprint(H.(letras))\u001b[39m\n                     ^\n\u001b[31mIndentationError\u001b[39m\u001b[31m:\u001b[39m expected an indented block after 'if' statement on line 5\n"
     ]
    }
   ],
   "source": [
    "# 2-  De la frase 'Hello' imprime todas las letras que no sean una 'l' usando if.\n",
    "h = \"Hello\"\n",
    "\n",
    "for letras in h:\n",
    "    if letras != \"l\":\n",
    "        \n",
    "print(H.(letras))"
   ]
  },
  {
   "cell_type": "code",
   "execution_count": null,
   "id": "109ea30a",
   "metadata": {},
   "outputs": [],
   "source": [
    "# 3- Haz lo mismo que en 2 usando continue.\n",
    "h = \"Hello\"\n",
    "\n",
    "for letra in h:\n",
    "    if letra == \"l\":\n",
    "        continue      # salta esta vuelta del bucle\n",
    "    print(letra)"
   ]
  },
  {
   "cell_type": "code",
   "execution_count": null,
   "id": "d4b7bc42",
   "metadata": {},
   "outputs": [],
   "source": [
    "#  4. De la frase 'Hello' imprime todas las letras parando el bucle si encuentras una 'o'.\n",
    "\n",
    "h = \"Hello\"\n",
    "\n",
    "for letra in h:\n",
    "    print(letra)\n",
    "    if letra == \"o\":\n",
    "        break\n"
   ]
  },
  {
   "cell_type": "code",
   "execution_count": null,
   "id": "6d34232a",
   "metadata": {},
   "outputs": [],
   "source": [
    "# 5. Define la variable doce = '12' y seis = 6. \n",
    "# Intenta sumarlos. En el caso de que te salga un error imprime '¡Un error!'. \n",
    "# Para eso usa un try ... except \n",
    "\n",
    "doce = '12' \n",
    "seis = 6. \n",
    "doce\n",
    "seis"
   ]
  },
  {
   "cell_type": "code",
   "execution_count": null,
   "id": "acaf1ba9",
   "metadata": {},
   "outputs": [],
   "source": [
    "doce = '12'\n",
    "seis = 6\n",
    "\n",
    "try:\n",
    "    resultado = doce + seis   # esto genera un error\n",
    "    print(resultado)\n",
    "except:\n",
    "    print(\"¡Un error!\")"
   ]
  },
  {
   "cell_type": "code",
   "execution_count": null,
   "id": "c3638d5d",
   "metadata": {},
   "outputs": [],
   "source": [
    "# 6. Basándonos en el ejercicio anterior, sin usar un try ... except,\n",
    "#  ¿cómo podríamos solucionar el problema?\n",
    "\n",
    "doce = '12'\n",
    "seis = 6\n",
    "\n",
    "resultado = int(doce) + seis\n",
    "print(resultado)\n"
   ]
  },
  {
   "cell_type": "code",
   "execution_count": null,
   "id": "031c7e7c",
   "metadata": {},
   "outputs": [],
   "source": [
    "#Ignorar\n",
    "continue\n"
   ]
  },
  {
   "cell_type": "code",
   "execution_count": null,
   "id": "573177f5",
   "metadata": {},
   "outputs": [],
   "source": [
    "# 7. Solicita al usuario ingresar números enteros positivos hasta que \n",
    "# ingrese un número negativo. Luego, muestra la suma de todos los números pares ingresados.\n",
    "\n",
    "\n",
    "suma_pares = 0   # acumulador para los números pares\n",
    "\n",
    "while True:\n",
    "    numero = int(input(\"Ingrese un número entero positivo (negativo para salir): \"))\n",
    "\n",
    "    if numero < 0:      # condición de salida\n",
    "        continue\n",
    "\n",
    "    if numero % 2 == 0:  # comprobamos si es par\n",
    "        suma_pares += numero\n",
    "\n",
    "print(\"La suma de los números pares es:\", suma_pares)"
   ]
  },
  {
   "cell_type": "code",
   "execution_count": null,
   "id": "6c0a794a",
   "metadata": {},
   "outputs": [],
   "source": [
    "# 8. Solicita al usuario ingresar dos números y muestra el resultado de dividir el primero por el \n",
    "# segundo. Asegúrate de manejar la excepción si el segundo número es cero.\n",
    "\n",
    "# 9. Solicita al usuario ingresar un número y muestra su raíz cuadrada. Maneja la excepción si el \n",
    "# número es negativo.\n",
    "\n",
    "# 10. Crea una lista de números y solicita al usuario ingresar\n",
    "#  un índice para acceder a un elemento de la lista. \n",
    "# Maneja la excepción si el índice está fuera de rango."
=======
   "id": "d851167f",
   "metadata": {},
   "outputs": [],
   "source": [
    "#15 cuenta cuantas veces aparece cada vocal\n",
    "input_usuario = input(\"Ingresa una frase con mas de 5 palabras: \")\n",
    "for i in input_usuario.split():\n",
    "    print(input_usuario)"
>>>>>>> 8492d0f (sentencias de control y bucles update)
   ]
  }
 ],
 "metadata": {
  "kernelspec": {
   "display_name": "Python 3",
   "language": "python",
   "name": "python3"
  },
  "language_info": {
   "codemirror_mode": {
    "name": "ipython",
    "version": 3
   },
   "file_extension": ".py",
   "mimetype": "text/x-python",
   "name": "python",
   "nbconvert_exporter": "python",
   "pygments_lexer": "ipython3",
   "version": "3.13.7"
  }
 },
 "nbformat": 4,
 "nbformat_minor": 5
}
