{
 "cells": [
  {
   "cell_type": "markdown",
   "id": "5b8c7a22",
   "metadata": {},
   "source": [
    "SENTENCIAS DE CONTROL BUCLE FOR"
   ]
  },
  {
   "cell_type": "code",
   "execution_count": 8,
   "id": "c136a7aa",
   "metadata": {},
   "outputs": [
    {
     "name": "stdout",
     "output_type": "stream",
     "text": [
      "[2, 1]\n",
      "[12]\n",
      "[45, 67, 23, 45, 66, 34, 67, 99, 98, 67, 64, 44, 100]\n"
     ]
    }
   ],
   "source": [
    "#1. Crea tres listas nuevas, donde:\n",
    "# En la primera tengamos temperaturas entre 0 - 10, llama a la nueva lista bajas_temp.\n",
    "# En la segunda tengamos temperaturas entre 11- 20, llama a la nueva lista medias_temp.\n",
    "# En la tercera tengamos temperaturas por encima de 20, llama a la nueva lista altas_temp\n",
    "\n",
    "temperaturas = [2,45,67,23, 45,66,12,1,34,67,99,98,67,64, 44, 100]\n",
    "bajas_temp = []\n",
    "medias_temp = []\n",
    "altas_temp = []\n",
    "\n",
    "for i in temperaturas:\n",
    "    if i < 10:\n",
    "      bajas_temp.append(i)\n",
    "print(bajas_temp)\n",
    "\n",
    "for i in temperaturas:\n",
    "    if i > 10 and i <= 20:\n",
    "      medias_temp.append(i)\n",
    "print(medias_temp)\n",
    "\n",
    "for i in temperaturas:\n",
    "    if i > 20:\n",
    "      altas_temp.append(i)\n",
    "print(altas_temp)"
   ]
  },
  {
   "cell_type": "code",
   "execution_count": 12,
   "id": "4b2c50ad",
   "metadata": {},
   "outputs": [
    {
     "name": "stdout",
     "output_type": "stream",
     "text": [
      "35.6\n",
      "33.8\n",
      "53.6\n"
     ]
    },
    {
     "ename": "NameError",
     "evalue": "name 'altlas_temp' is not defined",
     "output_type": "error",
     "traceback": [
      "\u001b[31m---------------------------------------------------------------------------\u001b[39m",
      "\u001b[31mNameError\u001b[39m                                 Traceback (most recent call last)",
      "\u001b[36mCell\u001b[39m\u001b[36m \u001b[39m\u001b[32mIn[12]\u001b[39m\u001b[32m, line 10\u001b[39m\n\u001b[32m      7\u001b[39m     i = i * \u001b[32m9\u001b[39m/\u001b[32m5\u001b[39m + \u001b[32m32\u001b[39m\n\u001b[32m      8\u001b[39m     \u001b[38;5;28mprint\u001b[39m(i)\n\u001b[32m---> \u001b[39m\u001b[32m10\u001b[39m \u001b[38;5;28;01mfor\u001b[39;00m i \u001b[38;5;129;01min\u001b[39;00m \u001b[43maltlas_temp\u001b[49m:\n\u001b[32m     11\u001b[39m     i = i * \u001b[32m9\u001b[39m/\u001b[32m5\u001b[39m + \u001b[32m32\u001b[39m\n\u001b[32m     12\u001b[39m     \u001b[38;5;28mprint\u001b[39m(i)\n",
      "\u001b[31mNameError\u001b[39m: name 'altlas_temp' is not defined"
     ]
    }
   ],
   "source": [
    "#2.\n",
    "for i in bajas_temp:\n",
    "    i = i * 9/5 + 32\n",
    "    print(i)\n",
    "\n",
    "for i in medias_temp:\n",
    "    i = i * 9/5 + 32\n",
    "    print(i)\n",
    "\n",
    "for i in altlas_temp:\n",
    "    i = i * 9/5 + 32\n",
    "    print(i)\n"
   ]
  },
  {
   "cell_type": "code",
   "execution_count": null,
   "id": "44835bdf",
   "metadata": {},
   "outputs": [],
   "source": [
    "#3 Define e imprime un rango de 0 a 6 (excluido).\n",
    "# 4. Define e imprime un rango de 3 a 6 ambos incluidos.\n",
    "# 5- Define e imprime un rango de 5 a 9 ambos excluidos.\n",
    "# 6. Define e imprime un rango de 3 números que empiece en 2.\n",
    "# 7. Define e imprime un rango que empiece en 2, aumentando cada paso por 3, que pare antes de llegar al número 13.\n",
    "# 8. Define e imprime un rango con todos los valores impares que hay hasta 10.\n",
    "# 9. Crea una lista nueva donde tengamos los números de la lista temperaturas elevados al cuadrado.\n",
    "# 10. Crea una lista nueva donde tengamos el resto de la división de cada uno de los números entre 2.\n",
    "# 11.Crea una lista nueva donde tengamos solo los elementos pares de la lista temperaturas.\n",
    "# 12. Crea una lista nueva donde tengamos solo los elementos que sean menores que 50."
   ]
  },
  {
   "cell_type": "code",
   "execution_count": null,
   "id": "5e57123b",
   "metadata": {},
   "outputs": [],
   "source": [
    "#13. Crea una lista donde tengamos los valores \"par\" e \"impar\" en función de los valores de la lista original. La lista resultante tiene que ser como la que indicamos a continuación:\n",
    "# 14. lista_strings = [\"par\",\"impar\",\"impar\",\"impar\", \"impar\",\"par\",\"par\",\"impar\",\"par\",\"impar\",\"impar\",\"par\",\"impar\",\"par\", \"par\", \"par\"]\n",
    "# 15. Pide al usuario un número entero positivo y suma los números pares e impares por separado hasta ese número.\n",
    "# 16- Pide al usuario ingresar una cadena y cuenta cuántas veces aparece cada vocal (a, e, i, o, u) en la cadena."
   ]
  },
  {
   "cell_type": "code",
   "execution_count": null,
   "id": "76e5dd8a",
   "metadata": {},
   "outputs": [],
   "source": [
    "#EJERCICIOS\n",
    "#1.Crea una variable que sea igual a \"Python\" y genera un código que nos printee todas las letras menos la \"P\" usando la sentencia continue.\n",
    "# 2-  De la frase 'Hello' imprime todas las letras que no sean una 'l' usando if.\n",
    "# 3- Haz lo mismo que en 2 usando continue.\n",
    "#  4. De la frase 'Hello' imprime todas las letras parando el bucle si encuentras una 'o'.\n",
    "# 5. Define la variable doce = '12' y seis = 6. Intenta sumarlos. En el caso de que te salga un error imprime '¡Un error!'. Para eso usa un try ... except \n",
    "# 6. Basándonos en el ejercicio anterior, sin usar un try ... except, ¿cómo podríamos solucionar el problema?\n",
    "# 7. Solicita al usuario ingresar números enteros positivos hasta que ingrese un número negativo. Luego, muestra la suma de todos los números pares ingresados.\n",
    "# 8. Solicita al usuario ingresar dos números y muestra el resultado de dividir el primero por el segundo. Asegúrate de manejar la excepción si el segundo número es cero.\n",
    "# 9. Solicita al usuario ingresar un número y muestra su raíz cuadrada. Maneja la excepción si el número es negativo.\n",
    "# 10. Crea una lista de números y solicita al usuario ingresar un índice para acceder a un elemento de la lista. Maneja la excepción si el índice está fuera de rango."
   ]
  }
 ],
 "metadata": {
  "kernelspec": {
   "display_name": "Python 3",
   "language": "python",
   "name": "python3"
  },
  "language_info": {
   "codemirror_mode": {
    "name": "ipython",
    "version": 3
   },
   "file_extension": ".py",
   "mimetype": "text/x-python",
   "name": "python",
   "nbconvert_exporter": "python",
   "pygments_lexer": "ipython3",
   "version": "3.13.7"
  }
 },
 "nbformat": 4,
 "nbformat_minor": 5
}
