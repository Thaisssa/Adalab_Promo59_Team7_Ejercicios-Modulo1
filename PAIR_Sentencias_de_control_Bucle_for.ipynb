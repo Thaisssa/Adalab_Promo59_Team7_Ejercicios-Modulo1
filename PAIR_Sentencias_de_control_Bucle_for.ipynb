{
 "cells": [
  {
   "cell_type": "markdown",
   "id": "5b8c7a22",
   "metadata": {},
   "source": [
    "SENTENCIAS DE CONTROL BUCLE FOR"
   ]
  },
  {
   "cell_type": "code",
   "execution_count": 1,
   "id": "c136a7aa",
   "metadata": {},
   "outputs": [
    {
     "name": "stdout",
     "output_type": "stream",
     "text": [
      "[2, 1]\n",
      "[12]\n",
      "[45, 67, 23, 45, 66, 34, 67, 99, 98, 67, 64, 44, 100]\n"
     ]
    }
   ],
   "source": [
    "#1. Crea tres listas nuevas, donde:\n",
    "# En la primera tengamos temperaturas entre 0 - 10, llama a la nueva lista bajas_temp.\n",
    "# En la segunda tengamos temperaturas entre 11- 20, llama a la nueva lista medias_temp.\n",
    "# En la tercera tengamos temperaturas por encima de 20, llama a la nueva lista altas_temp\n",
    "\n",
    "temperaturas = [2,45,67,23, 45,66,12,1,34,67,99,98,67,64, 44, 100]\n",
    "bajas_temp = []\n",
    "medias_temp = []\n",
    "altas_temp = []\n",
    "\n",
    "for i in temperaturas:\n",
    "    if i < 10:\n",
    "      bajas_temp.append(i)\n",
    "print(bajas_temp)\n",
    "\n",
    "for i in temperaturas:\n",
    "    if i > 10 and i <= 20:\n",
    "      medias_temp.append(i)\n",
    "print(medias_temp)\n",
    "\n",
    "for i in temperaturas:\n",
    "    if i > 20:\n",
    "      altas_temp.append(i)\n",
    "print(altas_temp)"
   ]
  },
  {
   "cell_type": "code",
   "execution_count": 2,
   "id": "4b2c50ad",
   "metadata": {},
   "outputs": [
    {
     "ename": "NameError",
     "evalue": "name 'altlas_temp' is not defined",
     "output_type": "error",
     "traceback": [
      "\u001b[31m---------------------------------------------------------------------------\u001b[39m",
      "\u001b[31mNameError\u001b[39m                                 Traceback (most recent call last)",
      "\u001b[36mCell\u001b[39m\u001b[36m \u001b[39m\u001b[32mIn[2]\u001b[39m\u001b[32m, line 14\u001b[39m\n\u001b[32m     11\u001b[39m     i = i * \u001b[32m9\u001b[39m/\u001b[32m5\u001b[39m + \u001b[32m32\u001b[39m\n\u001b[32m     12\u001b[39m     farenheit_medias_temp.append(i)\n\u001b[32m---> \u001b[39m\u001b[32m14\u001b[39m \u001b[38;5;28;01mfor\u001b[39;00m i \u001b[38;5;129;01min\u001b[39;00m \u001b[43maltlas_temp\u001b[49m:\n\u001b[32m     15\u001b[39m     i = i * \u001b[32m9\u001b[39m/\u001b[32m5\u001b[39m + \u001b[32m32\u001b[39m\n\u001b[32m     16\u001b[39m     farenheit_altas_temp.append(i)\n",
      "\u001b[31mNameError\u001b[39m: name 'altlas_temp' is not defined"
     ]
    }
   ],
   "source": [
    "#2.\n",
    "farenheit_bajas_temp = []\n",
    "farenheit_medias_temp = []\n",
    "farenheit_altas_temp = []\n",
    "\n",
    "for i in bajas_temp:\n",
    "    i = i * 9/5 + 32\n",
    "    farenheit_bajas_temp.append(i)\n",
    "\n",
    "for i in medias_temp:\n",
    "    i = i * 9/5 + 32\n",
    "    farenheit_medias_temp.append(i)\n",
    "\n",
    "for i in altlas_temp:\n",
    "    i = i * 9/5 + 32\n",
    "    farenheit_altas_temp.append(i)\n",
    "    \n",
    "print(farenheit_bajas_temp)\n",
    "print(farenheit_medias_temp)\n",
    "print(farenheit_altas_temp)\n"
   ]
  },
  {
   "cell_type": "code",
   "execution_count": null,
   "id": "d85850e1",
   "metadata": {},
   "outputs": [
    {
     "name": "stdout",
     "output_type": "stream",
     "text": [
      "0\n",
      "1\n",
      "2\n",
      "3\n",
      "4\n",
      "5\n"
     ]
    }
   ],
   "source": [
    "#3 6 excluido\n",
    "for i in range(0,6):\n",
    "    print(i)"
   ]
  },
  {
   "cell_type": "code",
   "execution_count": null,
   "id": "3f536dd2",
   "metadata": {},
   "outputs": [
    {
     "name": "stdout",
     "output_type": "stream",
     "text": [
      "2\n",
      "3\n",
      "4\n",
      "5\n",
      "6\n"
     ]
    }
   ],
   "source": [
    "#4\n",
    "for i in range(2,7):\n",
    "    print(i)"
   ]
  },
  {
   "cell_type": "code",
   "execution_count": null,
   "id": "d0e99390",
   "metadata": {},
   "outputs": [
    {
     "name": "stdout",
     "output_type": "stream",
     "text": [
      "5\n",
      "6\n",
      "7\n",
      "8\n"
     ]
    }
   ],
   "source": [
    "#5\n",
    "for i in range(6,9):\n",
    "     print(i)"
   ]
  },
  {
   "cell_type": "code",
   "execution_count": null,
   "id": "b11b1ae9",
   "metadata": {},
   "outputs": [],
   "source": [
    "#6 Rango de 3 numeros que empiece en 2\n",
    "for i in range(2,5):\n",
    "    print(i)"
   ]
  },
  {
   "cell_type": "code",
   "execution_count": null,
   "id": "35fccd96",
   "metadata": {},
   "outputs": [],
   "source": [
    "#7 empiece en 2 aumentando cada paso por tres y que pare antes que 13\n",
    "for i in range(2,13,3):\n",
    "    print(i)"
   ]
  },
  {
   "cell_type": "code",
   "execution_count": null,
   "id": "8037c860",
   "metadata": {},
   "outputs": [
    {
     "name": "stdout",
     "output_type": "stream",
     "text": [
      "1\n",
      "3\n",
      "5\n",
      "7\n",
      "9\n"
     ]
    }
   ],
   "source": [
    "#8\n",
    "for i  in range(1,10,2):\n",
    "    print(i)"
   ]
  },
  {
   "cell_type": "code",
   "execution_count": null,
   "id": "ee720fbf",
   "metadata": {},
   "outputs": [
    {
     "name": "stdout",
     "output_type": "stream",
     "text": [
      "[4, 2025, 4489, 529, 2025, 4356, 144, 1, 1156, 4489, 9801, 9604, 4489, 4096, 1936, 10000]\n"
     ]
    }
   ],
   "source": [
    "#9 \n",
    "temperaturas = [2,45,67,23, 45,66,12,1,34,67,99,98,67,64, 44, 100]\n",
    "temperaturas_al_cuadrado = []\n",
    "for i in temperaturas:\n",
    "    temperaturas_al_cuadrado.append(i **2)\n",
    "    \n",
    "print(temperaturas_al_cuadrado)"
   ]
  },
  {
   "cell_type": "code",
   "execution_count": null,
   "id": "0a471053",
   "metadata": {},
   "outputs": [],
   "source": [
    "#10\n",
    "resto_entre2 = []\n",
    "for i in temperaturas_al_cuadrado:\n",
    "    resto_entre2.append(i %2)\n",
    "print(resto_entre2)"
   ]
  }
 ],
 "metadata": {
  "kernelspec": {
   "display_name": "Python 3",
   "language": "python",
   "name": "python3"
  },
  "language_info": {
   "codemirror_mode": {
    "name": "ipython",
    "version": 3
   },
   "file_extension": ".py",
   "mimetype": "text/x-python",
   "name": "python",
   "nbconvert_exporter": "python",
   "pygments_lexer": "ipython3",
   "version": "3.13.7"
  }
 },
 "nbformat": 4,
 "nbformat_minor": 5
}
